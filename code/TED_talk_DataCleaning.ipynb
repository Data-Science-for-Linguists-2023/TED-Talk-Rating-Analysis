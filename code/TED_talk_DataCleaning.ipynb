{
 "cells": [
  {
   "attachments": {},
   "cell_type": "markdown",
   "metadata": {},
   "source": [
    "## Hypothesis:\n",
    "    It is possible to predict whether a talk is popular or not based on its transcript."
   ]
  },
  {
   "attachments": {},
   "cell_type": "markdown",
   "metadata": {},
   "source": [
    "* What linguistic features might be influencing the classifier's decisions:\n",
    "\n",
    "    1. **The average K-band of the transcript**- The more popular the talk, the lower the Kband mean. Why? Because we usually don't want the speaker to use a lot of terminologies that are only used in the field they explain or work.\n",
    "\n",
    "    2. **The syntactic complexity of the transcript** - the more consicely the speakers deliver their talk, the more likely it will get more positive review.\n",
    "\n",
    "* How to define _POPULAR_ talk?  \n",
    "    I am here using `rating` as a tool to define the popular talk; if the ratio of positive review of a talk is higher than its negative review, I will consider it popular.\n",
    "\n",
    "* What is _K-band_?\n",
    "    This is one of the ways to measure the vocabulary level of a writing. Since common, everyday words are used more frequently than technical, sophisticated words, it measures the level of a word by its frequency. The k-band in this project is built on the unigram collected by Google, the 1/3 million most frequent words on the platform."
   ]
  },
  {
   "attachments": {},
   "cell_type": "markdown",
   "metadata": {},
   "source": [
    "## Data Cleaning & Reorganizing"
   ]
  },
  {
   "cell_type": "code",
   "execution_count": 1,
   "metadata": {},
   "outputs": [],
   "source": [
    "import pandas as pd\n",
    "import numpy as np\n",
    "import math\n",
    "import nltk\n",
    "import matplotlib.pylab as plt           \n",
    "import seaborn as sns"
   ]
  },
  {
   "cell_type": "code",
   "execution_count": 2,
   "metadata": {},
   "outputs": [],
   "source": [
    "# read files\n",
    "ted = pd.read_csv(\"../data_full/ted_main.csv\")\n",
    "tran = pd.read_csv(\"../data_full/transcripts.csv\")"
   ]
  },
  {
   "cell_type": "code",
   "execution_count": 3,
   "metadata": {},
   "outputs": [],
   "source": [
    "# remove NAs\n",
    "ted.dropna(inplace=True)\n",
    "tran.dropna(inplace=True)"
   ]
  },
  {
   "cell_type": "code",
   "execution_count": 4,
   "metadata": {},
   "outputs": [
    {
     "name": "stdout",
     "output_type": "stream",
     "text": [
      "<class 'pandas.core.frame.DataFrame'>\n",
      "Int64Index: 2544 entries, 0 to 2549\n",
      "Data columns (total 17 columns):\n",
      " #   Column              Non-Null Count  Dtype \n",
      "---  ------              --------------  ----- \n",
      " 0   comments            2544 non-null   int64 \n",
      " 1   description         2544 non-null   object\n",
      " 2   duration            2544 non-null   int64 \n",
      " 3   event               2544 non-null   object\n",
      " 4   film_date           2544 non-null   int64 \n",
      " 5   languages           2544 non-null   int64 \n",
      " 6   main_speaker        2544 non-null   object\n",
      " 7   name                2544 non-null   object\n",
      " 8   num_speaker         2544 non-null   int64 \n",
      " 9   published_date      2544 non-null   int64 \n",
      " 10  ratings             2544 non-null   object\n",
      " 11  related_talks       2544 non-null   object\n",
      " 12  speaker_occupation  2544 non-null   object\n",
      " 13  tags                2544 non-null   object\n",
      " 14  title               2544 non-null   object\n",
      " 15  url                 2544 non-null   object\n",
      " 16  views               2544 non-null   int64 \n",
      "dtypes: int64(7), object(10)\n",
      "memory usage: 357.8+ KB\n",
      "None\n",
      "---------------------------------------------\n",
      "<class 'pandas.core.frame.DataFrame'>\n",
      "RangeIndex: 2467 entries, 0 to 2466\n",
      "Data columns (total 2 columns):\n",
      " #   Column      Non-Null Count  Dtype \n",
      "---  ------      --------------  ----- \n",
      " 0   transcript  2467 non-null   object\n",
      " 1   url         2467 non-null   object\n",
      "dtypes: object(2)\n",
      "memory usage: 38.7+ KB\n",
      "None\n"
     ]
    }
   ],
   "source": [
    "print(ted.info())\n",
    "print('---'*15)\n",
    "print(tran.info())"
   ]
  },
  {
   "attachments": {},
   "cell_type": "markdown",
   "metadata": {},
   "source": [
    "* There is already a difference in the number of rows in each data set. It indicates that I might lose 77 rows in `ted_main` set at most."
   ]
  },
  {
   "cell_type": "code",
   "execution_count": 5,
   "metadata": {},
   "outputs": [],
   "source": [
    "# sorting the main TED conference only\n",
    "ted_main = ted[ted['event'].str.fullmatch(r'TED\\d\\d\\d\\d')]\n"
   ]
  },
  {
   "cell_type": "code",
   "execution_count": 6,
   "metadata": {},
   "outputs": [
    {
     "name": "stdout",
     "output_type": "stream",
     "text": [
      "<class 'pandas.core.frame.DataFrame'>\n",
      "Int64Index: 972 entries, 0 to 971\n",
      "Data columns (total 18 columns):\n",
      " #   Column              Non-Null Count  Dtype \n",
      "---  ------              --------------  ----- \n",
      " 0   comments            972 non-null    int64 \n",
      " 1   description         972 non-null    object\n",
      " 2   duration            972 non-null    int64 \n",
      " 3   event               972 non-null    object\n",
      " 4   film_date           972 non-null    int64 \n",
      " 5   languages           972 non-null    int64 \n",
      " 6   main_speaker        972 non-null    object\n",
      " 7   name                972 non-null    object\n",
      " 8   num_speaker         972 non-null    int64 \n",
      " 9   published_date      972 non-null    int64 \n",
      " 10  ratings             972 non-null    object\n",
      " 11  related_talks       972 non-null    object\n",
      " 12  speaker_occupation  972 non-null    object\n",
      " 13  tags                972 non-null    object\n",
      " 14  title               972 non-null    object\n",
      " 15  url                 972 non-null    object\n",
      " 16  views               972 non-null    int64 \n",
      " 17  transcript          972 non-null    object\n",
      "dtypes: int64(7), object(11)\n",
      "memory usage: 144.3+ KB\n"
     ]
    }
   ],
   "source": [
    "# combine two files\n",
    "ted_clean = pd.merge(ted_main, tran, on = 'url')\n",
    "ted_clean.info()"
   ]
  },
  {
   "attachments": {},
   "cell_type": "markdown",
   "metadata": {},
   "source": [
    "* While merging two dataset, 6 values are lost."
   ]
  },
  {
   "cell_type": "code",
   "execution_count": 7,
   "metadata": {},
   "outputs": [
    {
     "data": {
      "text/html": [
       "<div>\n",
       "<style scoped>\n",
       "    .dataframe tbody tr th:only-of-type {\n",
       "        vertical-align: middle;\n",
       "    }\n",
       "\n",
       "    .dataframe tbody tr th {\n",
       "        vertical-align: top;\n",
       "    }\n",
       "\n",
       "    .dataframe thead th {\n",
       "        text-align: right;\n",
       "    }\n",
       "</style>\n",
       "<table border=\"1\" class=\"dataframe\">\n",
       "  <thead>\n",
       "    <tr style=\"text-align: right;\">\n",
       "      <th></th>\n",
       "      <th>url</th>\n",
       "      <th>url</th>\n",
       "    </tr>\n",
       "  </thead>\n",
       "  <tbody>\n",
       "    <tr>\n",
       "      <th>2546</th>\n",
       "      <td>https://www.ted.com/talks/armando_azua_bustos_...</td>\n",
       "      <td>NaN</td>\n",
       "    </tr>\n",
       "    <tr>\n",
       "      <th>2547</th>\n",
       "      <td>https://www.ted.com/talks/radhika_nagpal_what_...</td>\n",
       "      <td>NaN</td>\n",
       "    </tr>\n",
       "    <tr>\n",
       "      <th>2548</th>\n",
       "      <td>https://www.ted.com/talks/theo_e_j_wilson_a_bl...</td>\n",
       "      <td>NaN</td>\n",
       "    </tr>\n",
       "    <tr>\n",
       "      <th>2549</th>\n",
       "      <td>https://www.ted.com/talks/karoliina_korppoo_ho...</td>\n",
       "      <td>NaN</td>\n",
       "    </tr>\n",
       "    <tr>\n",
       "      <th>1113</th>\n",
       "      <td>NaN</td>\n",
       "      <td>https://www.ted.com/talks/billy_collins_everyd...</td>\n",
       "    </tr>\n",
       "    <tr>\n",
       "      <th>1192</th>\n",
       "      <td>NaN</td>\n",
       "      <td>https://www.ted.com/talks/peter_norvig_the_100...</td>\n",
       "    </tr>\n",
       "    <tr>\n",
       "      <th>1220</th>\n",
       "      <td>NaN</td>\n",
       "      <td>https://www.ted.com/talks/james_stavridis_how_...</td>\n",
       "    </tr>\n",
       "    <tr>\n",
       "      <th>1656</th>\n",
       "      <td>NaN</td>\n",
       "      <td>https://www.ted.com/talks/mellody_hobson_color...</td>\n",
       "    </tr>\n",
       "    <tr>\n",
       "      <th>1911</th>\n",
       "      <td>NaN</td>\n",
       "      <td>https://www.ted.com/talks/suki_kim_this_is_wha...</td>\n",
       "    </tr>\n",
       "    <tr>\n",
       "      <th>1949</th>\n",
       "      <td>NaN</td>\n",
       "      <td>https://www.ted.com/talks/christopher_soghoian...</td>\n",
       "    </tr>\n",
       "  </tbody>\n",
       "</table>\n",
       "</div>"
      ],
      "text/plain": [
       "                                                    url  \\\n",
       "2546  https://www.ted.com/talks/armando_azua_bustos_...   \n",
       "2547  https://www.ted.com/talks/radhika_nagpal_what_...   \n",
       "2548  https://www.ted.com/talks/theo_e_j_wilson_a_bl...   \n",
       "2549  https://www.ted.com/talks/karoliina_korppoo_ho...   \n",
       "1113                                                NaN   \n",
       "1192                                                NaN   \n",
       "1220                                                NaN   \n",
       "1656                                                NaN   \n",
       "1911                                                NaN   \n",
       "1949                                                NaN   \n",
       "\n",
       "                                                    url  \n",
       "2546                                                NaN  \n",
       "2547                                                NaN  \n",
       "2548                                                NaN  \n",
       "2549                                                NaN  \n",
       "1113  https://www.ted.com/talks/billy_collins_everyd...  \n",
       "1192  https://www.ted.com/talks/peter_norvig_the_100...  \n",
       "1220  https://www.ted.com/talks/james_stavridis_how_...  \n",
       "1656  https://www.ted.com/talks/mellody_hobson_color...  \n",
       "1911  https://www.ted.com/talks/suki_kim_this_is_wha...  \n",
       "1949  https://www.ted.com/talks/christopher_soghoian...  "
      ]
     },
     "execution_count": 7,
     "metadata": {},
     "output_type": "execute_result"
    }
   ],
   "source": [
    "url = pd.concat([ted.url, tran.url], axis = 1)\n",
    "url.tail(10)"
   ]
  },
  {
   "attachments": {},
   "cell_type": "markdown",
   "metadata": {},
   "source": [
    "* The reason for the lost 6 rows is because there are 6 NaNs in `ted` data set.\n",
    "* But, shouldn't `dropna()` method have worked on NaN values too? Hmm."
   ]
  },
  {
   "cell_type": "code",
   "execution_count": 8,
   "metadata": {},
   "outputs": [
    {
     "name": "stdout",
     "output_type": "stream",
     "text": [
      "<class 'pandas.core.frame.DataFrame'>\n",
      "Int64Index: 972 entries, 0 to 971\n",
      "Data columns (total 5 columns):\n",
      " #   Column      Non-Null Count  Dtype \n",
      "---  ------      --------------  ----- \n",
      " 0   title       972 non-null    object\n",
      " 1   event       972 non-null    object\n",
      " 2   comments    972 non-null    int64 \n",
      " 3   ratings     972 non-null    object\n",
      " 4   transcript  972 non-null    object\n",
      "dtypes: int64(1), object(4)\n",
      "memory usage: 45.6+ KB\n"
     ]
    }
   ],
   "source": [
    "# select the columns I need\n",
    "ted_clean = ted_clean[['title', 'event', 'comments', 'ratings', 'transcript']]\n",
    "ted_clean.info()"
   ]
  },
  {
   "cell_type": "code",
   "execution_count": 9,
   "metadata": {},
   "outputs": [],
   "source": [
    "# tokenize the transcript\n",
    "ted_clean['token'] = ted_clean.transcript.map(nltk.word_tokenize)"
   ]
  },
  {
   "cell_type": "code",
   "execution_count": 10,
   "metadata": {},
   "outputs": [],
   "source": [
    "# code from stackoverflow: https://stackoverflow.com/questions/51688521/lowercase-sentences-in-lists-in-pandas-dataframe\n",
    "ted_clean['tok_low'] = ted_clean.token.map(lambda x: list(map(str.lower, x)))"
   ]
  },
  {
   "cell_type": "code",
   "execution_count": 11,
   "metadata": {},
   "outputs": [
    {
     "data": {
      "text/html": [
       "<div>\n",
       "<style scoped>\n",
       "    .dataframe tbody tr th:only-of-type {\n",
       "        vertical-align: middle;\n",
       "    }\n",
       "\n",
       "    .dataframe tbody tr th {\n",
       "        vertical-align: top;\n",
       "    }\n",
       "\n",
       "    .dataframe thead th {\n",
       "        text-align: right;\n",
       "    }\n",
       "</style>\n",
       "<table border=\"1\" class=\"dataframe\">\n",
       "  <thead>\n",
       "    <tr style=\"text-align: right;\">\n",
       "      <th></th>\n",
       "      <th>title</th>\n",
       "      <th>event</th>\n",
       "      <th>comments</th>\n",
       "      <th>ratings</th>\n",
       "      <th>transcript</th>\n",
       "      <th>token</th>\n",
       "      <th>tok_low</th>\n",
       "    </tr>\n",
       "  </thead>\n",
       "  <tbody>\n",
       "    <tr>\n",
       "      <th>811</th>\n",
       "      <td>The surprising way groups like ISIS stay in power</td>\n",
       "      <td>TED2015</td>\n",
       "      <td>265</td>\n",
       "      <td>[{'id': 8, 'name': 'Informative', 'count': 108...</td>\n",
       "      <td>For the past decade, I've been studying non-st...</td>\n",
       "      <td>[For, the, past, decade, ,, I, 've, been, stud...</td>\n",
       "      <td>[for, the, past, decade, ,, i, 've, been, stud...</td>\n",
       "    </tr>\n",
       "    <tr>\n",
       "      <th>434</th>\n",
       "      <td>The case for anonymity online</td>\n",
       "      <td>TED2010</td>\n",
       "      <td>477</td>\n",
       "      <td>[{'id': 22, 'name': 'Fascinating', 'count': 36...</td>\n",
       "      <td>Tom Green: That's a 4chan thing. These kids on...</td>\n",
       "      <td>[Tom, Green, :, That, 's, a, 4chan, thing, ., ...</td>\n",
       "      <td>[tom, green, :, that, 's, a, 4chan, thing, ., ...</td>\n",
       "    </tr>\n",
       "    <tr>\n",
       "      <th>583</th>\n",
       "      <td>New ways to see music (with color! and fire!)</td>\n",
       "      <td>TED2012</td>\n",
       "      <td>48</td>\n",
       "      <td>[{'id': 2, 'name': 'Confusing', 'count': 12}, ...</td>\n",
       "      <td>My passions are music, technology and making t...</td>\n",
       "      <td>[My, passions, are, music, ,, technology, and,...</td>\n",
       "      <td>[my, passions, are, music, ,, technology, and,...</td>\n",
       "    </tr>\n",
       "    <tr>\n",
       "      <th>969</th>\n",
       "      <td>The most Martian place on Earth</td>\n",
       "      <td>TED2017</td>\n",
       "      <td>6</td>\n",
       "      <td>[{'id': 22, 'name': 'Fascinating', 'count': 32...</td>\n",
       "      <td>This is a picture of a sunset on Mars taken by...</td>\n",
       "      <td>[This, is, a, picture, of, a, sunset, on, Mars...</td>\n",
       "      <td>[this, is, a, picture, of, a, sunset, on, mars...</td>\n",
       "    </tr>\n",
       "    <tr>\n",
       "      <th>409</th>\n",
       "      <td>Every pollen grain has a story</td>\n",
       "      <td>TED2010</td>\n",
       "      <td>59</td>\n",
       "      <td>[{'id': 22, 'name': 'Fascinating', 'count': 25...</td>\n",
       "      <td>Thank you. I have two missions here today. The...</td>\n",
       "      <td>[Thank, you, ., I, have, two, missions, here, ...</td>\n",
       "      <td>[thank, you, ., i, have, two, missions, here, ...</td>\n",
       "    </tr>\n",
       "  </tbody>\n",
       "</table>\n",
       "</div>"
      ],
      "text/plain": [
       "                                                 title    event  comments  \\\n",
       "811  The surprising way groups like ISIS stay in power  TED2015       265   \n",
       "434                      The case for anonymity online  TED2010       477   \n",
       "583      New ways to see music (with color! and fire!)  TED2012        48   \n",
       "969                    The most Martian place on Earth  TED2017         6   \n",
       "409                     Every pollen grain has a story  TED2010        59   \n",
       "\n",
       "                                               ratings  \\\n",
       "811  [{'id': 8, 'name': 'Informative', 'count': 108...   \n",
       "434  [{'id': 22, 'name': 'Fascinating', 'count': 36...   \n",
       "583  [{'id': 2, 'name': 'Confusing', 'count': 12}, ...   \n",
       "969  [{'id': 22, 'name': 'Fascinating', 'count': 32...   \n",
       "409  [{'id': 22, 'name': 'Fascinating', 'count': 25...   \n",
       "\n",
       "                                            transcript  \\\n",
       "811  For the past decade, I've been studying non-st...   \n",
       "434  Tom Green: That's a 4chan thing. These kids on...   \n",
       "583  My passions are music, technology and making t...   \n",
       "969  This is a picture of a sunset on Mars taken by...   \n",
       "409  Thank you. I have two missions here today. The...   \n",
       "\n",
       "                                                 token  \\\n",
       "811  [For, the, past, decade, ,, I, 've, been, stud...   \n",
       "434  [Tom, Green, :, That, 's, a, 4chan, thing, ., ...   \n",
       "583  [My, passions, are, music, ,, technology, and,...   \n",
       "969  [This, is, a, picture, of, a, sunset, on, Mars...   \n",
       "409  [Thank, you, ., I, have, two, missions, here, ...   \n",
       "\n",
       "                                               tok_low  \n",
       "811  [for, the, past, decade, ,, i, 've, been, stud...  \n",
       "434  [tom, green, :, that, 's, a, 4chan, thing, ., ...  \n",
       "583  [my, passions, are, music, ,, technology, and,...  \n",
       "969  [this, is, a, picture, of, a, sunset, on, mars...  \n",
       "409  [thank, you, ., i, have, two, missions, here, ...  "
      ]
     },
     "execution_count": 11,
     "metadata": {},
     "output_type": "execute_result"
    }
   ],
   "source": [
    "ted_clean.sample(5)"
   ]
  },
  {
   "cell_type": "code",
   "execution_count": 12,
   "metadata": {},
   "outputs": [],
   "source": [
    "# read files to make kband for the transcript analysis\n",
    "# Codes created by Dr. Han\n",
    "flines = open(\"C:/Users/82102/Desktop/program/2022_fall/LING 2231/count_1w.txt\").readlines()\n",
    "google_1gram_tup = [tuple(line.split()) for line in flines]\n",
    "google_1gram_rank = {word:index+1 for (index,(word, count)) in enumerate(google_1gram_tup)}"
   ]
  },
  {
   "attachments": {},
   "cell_type": "markdown",
   "metadata": {},
   "source": [
    "* Future me: need to specify `count_1w.txt` origin and the definition of kband"
   ]
  },
  {
   "cell_type": "code",
   "execution_count": 13,
   "metadata": {},
   "outputs": [],
   "source": [
    "# Build kband function, using the code Dr. Han created\n",
    "def get_avg_google_kband(toks):\n",
    "    kbands = []\n",
    "    for t in toks:\n",
    "        if t.lower() in google_1gram_rank: \n",
    "           grank = google_1gram_rank[t.lower()]\n",
    "           if grank <= 100000:  \n",
    "               kband = math.floor(grank/1000)+1\n",
    "               kbands.append(kband)\n",
    "    return np.mean(kbands)"
   ]
  },
  {
   "cell_type": "code",
   "execution_count": 14,
   "metadata": {},
   "outputs": [
    {
     "data": {
      "text/plain": [
       "2.712989957887917"
      ]
     },
     "execution_count": 14,
     "metadata": {},
     "output_type": "execute_result"
    }
   ],
   "source": [
    "get_avg_google_kband(ted_clean.token[0])"
   ]
  },
  {
   "attachments": {},
   "cell_type": "markdown",
   "metadata": {},
   "source": [
    "* Nice it works."
   ]
  },
  {
   "cell_type": "code",
   "execution_count": 15,
   "metadata": {},
   "outputs": [],
   "source": [
    "ted_clean['kband_ave'] = ted_clean.token.map(get_avg_google_kband)"
   ]
  },
  {
   "cell_type": "code",
   "execution_count": 16,
   "metadata": {},
   "outputs": [
    {
     "data": {
      "text/html": [
       "<div>\n",
       "<style scoped>\n",
       "    .dataframe tbody tr th:only-of-type {\n",
       "        vertical-align: middle;\n",
       "    }\n",
       "\n",
       "    .dataframe tbody tr th {\n",
       "        vertical-align: top;\n",
       "    }\n",
       "\n",
       "    .dataframe thead th {\n",
       "        text-align: right;\n",
       "    }\n",
       "</style>\n",
       "<table border=\"1\" class=\"dataframe\">\n",
       "  <thead>\n",
       "    <tr style=\"text-align: right;\">\n",
       "      <th></th>\n",
       "      <th>comments</th>\n",
       "      <th>kband_ave</th>\n",
       "    </tr>\n",
       "  </thead>\n",
       "  <tbody>\n",
       "    <tr>\n",
       "      <th>count</th>\n",
       "      <td>972.000000</td>\n",
       "      <td>972.000000</td>\n",
       "    </tr>\n",
       "    <tr>\n",
       "      <th>mean</th>\n",
       "      <td>212.526749</td>\n",
       "      <td>3.127864</td>\n",
       "    </tr>\n",
       "    <tr>\n",
       "      <th>std</th>\n",
       "      <td>371.132528</td>\n",
       "      <td>0.927790</td>\n",
       "    </tr>\n",
       "    <tr>\n",
       "      <th>min</th>\n",
       "      <td>6.000000</td>\n",
       "      <td>1.858444</td>\n",
       "    </tr>\n",
       "    <tr>\n",
       "      <th>25%</th>\n",
       "      <td>64.000000</td>\n",
       "      <td>2.637509</td>\n",
       "    </tr>\n",
       "    <tr>\n",
       "      <th>50%</th>\n",
       "      <td>121.500000</td>\n",
       "      <td>2.959547</td>\n",
       "    </tr>\n",
       "    <tr>\n",
       "      <th>75%</th>\n",
       "      <td>233.000000</td>\n",
       "      <td>3.404999</td>\n",
       "    </tr>\n",
       "    <tr>\n",
       "      <th>max</th>\n",
       "      <td>6404.000000</td>\n",
       "      <td>13.780000</td>\n",
       "    </tr>\n",
       "  </tbody>\n",
       "</table>\n",
       "</div>"
      ],
      "text/plain": [
       "          comments   kband_ave\n",
       "count   972.000000  972.000000\n",
       "mean    212.526749    3.127864\n",
       "std     371.132528    0.927790\n",
       "min       6.000000    1.858444\n",
       "25%      64.000000    2.637509\n",
       "50%     121.500000    2.959547\n",
       "75%     233.000000    3.404999\n",
       "max    6404.000000   13.780000"
      ]
     },
     "execution_count": 16,
     "metadata": {},
     "output_type": "execute_result"
    }
   ],
   "source": [
    "ted_clean.describe()"
   ]
  },
  {
   "attachments": {},
   "cell_type": "markdown",
   "metadata": {},
   "source": [
    "* There are some unexpectedly high mean Kbands.. Let's see what they are."
   ]
  },
  {
   "cell_type": "code",
   "execution_count": 17,
   "metadata": {},
   "outputs": [
    {
     "data": {
      "text/html": [
       "<div>\n",
       "<style scoped>\n",
       "    .dataframe tbody tr th:only-of-type {\n",
       "        vertical-align: middle;\n",
       "    }\n",
       "\n",
       "    .dataframe tbody tr th {\n",
       "        vertical-align: top;\n",
       "    }\n",
       "\n",
       "    .dataframe thead th {\n",
       "        text-align: right;\n",
       "    }\n",
       "</style>\n",
       "<table border=\"1\" class=\"dataframe\">\n",
       "  <thead>\n",
       "    <tr style=\"text-align: right;\">\n",
       "      <th></th>\n",
       "      <th>title</th>\n",
       "      <th>event</th>\n",
       "      <th>comments</th>\n",
       "      <th>ratings</th>\n",
       "      <th>transcript</th>\n",
       "      <th>token</th>\n",
       "      <th>tok_low</th>\n",
       "      <th>kband_ave</th>\n",
       "    </tr>\n",
       "  </thead>\n",
       "  <tbody>\n",
       "    <tr>\n",
       "      <th>76</th>\n",
       "      <td>\"La Vie en Rose\"</td>\n",
       "      <td>TED2004</td>\n",
       "      <td>39</td>\n",
       "      <td>[{'id': 7, 'name': 'Funny', 'count': 58}, {'id...</td>\n",
       "      <td>Thomas Dolby: For pure pleasure please welcome...</td>\n",
       "      <td>[Thomas, Dolby, :, For, pure, pleasure, please...</td>\n",
       "      <td>[thomas, dolby, :, for, pure, pleasure, please...</td>\n",
       "      <td>13.78</td>\n",
       "    </tr>\n",
       "  </tbody>\n",
       "</table>\n",
       "</div>"
      ],
      "text/plain": [
       "               title    event  comments  \\\n",
       "76  \"La Vie en Rose\"  TED2004        39   \n",
       "\n",
       "                                              ratings  \\\n",
       "76  [{'id': 7, 'name': 'Funny', 'count': 58}, {'id...   \n",
       "\n",
       "                                           transcript  \\\n",
       "76  Thomas Dolby: For pure pleasure please welcome...   \n",
       "\n",
       "                                                token  \\\n",
       "76  [Thomas, Dolby, :, For, pure, pleasure, please...   \n",
       "\n",
       "                                              tok_low  kband_ave  \n",
       "76  [thomas, dolby, :, for, pure, pleasure, please...      13.78  "
      ]
     },
     "execution_count": 17,
     "metadata": {},
     "output_type": "execute_result"
    }
   ],
   "source": [
    "# check the max kband_ave because it does not make sense..\n",
    "ted_clean[ted_clean.kband_ave == 13.78]"
   ]
  },
  {
   "cell_type": "code",
   "execution_count": 18,
   "metadata": {},
   "outputs": [
    {
     "data": {
      "text/plain": [
       "2379.0812757201647"
      ]
     },
     "execution_count": 18,
     "metadata": {},
     "output_type": "execute_result"
    }
   ],
   "source": [
    "# calculate token count and its mean\n",
    "ted_clean['tok_count'] = ted_clean.tok_low.map(len)\n",
    "np.mean(ted_clean.tok_count)"
   ]
  },
  {
   "cell_type": "code",
   "execution_count": 19,
   "metadata": {},
   "outputs": [
    {
     "data": {
      "text/plain": [
       "76    151\n",
       "Name: tok_count, dtype: int64"
      ]
     },
     "execution_count": 19,
     "metadata": {},
     "output_type": "execute_result"
    }
   ],
   "source": [
    "# checking the token # to check if the token count is causing this problem\n",
    "ted_clean[ted_clean.kband_ave == 13.78]['tok_count']"
   ]
  },
  {
   "attachments": {},
   "cell_type": "markdown",
   "metadata": {},
   "source": [
    "* Oookayy, maybe I should sort the data by token count for a better result."
   ]
  },
  {
   "cell_type": "code",
   "execution_count": 20,
   "metadata": {},
   "outputs": [
    {
     "data": {
      "text/html": [
       "<div>\n",
       "<style scoped>\n",
       "    .dataframe tbody tr th:only-of-type {\n",
       "        vertical-align: middle;\n",
       "    }\n",
       "\n",
       "    .dataframe tbody tr th {\n",
       "        vertical-align: top;\n",
       "    }\n",
       "\n",
       "    .dataframe thead th {\n",
       "        text-align: right;\n",
       "    }\n",
       "</style>\n",
       "<table border=\"1\" class=\"dataframe\">\n",
       "  <thead>\n",
       "    <tr style=\"text-align: right;\">\n",
       "      <th></th>\n",
       "      <th>title</th>\n",
       "      <th>event</th>\n",
       "      <th>comments</th>\n",
       "      <th>ratings</th>\n",
       "      <th>transcript</th>\n",
       "      <th>token</th>\n",
       "      <th>tok_low</th>\n",
       "      <th>kband_ave</th>\n",
       "      <th>tok_count</th>\n",
       "    </tr>\n",
       "  </thead>\n",
       "  <tbody>\n",
       "    <tr>\n",
       "      <th>62</th>\n",
       "      <td>The story of life in photographs</td>\n",
       "      <td>TED2005</td>\n",
       "      <td>143</td>\n",
       "      <td>[{'id': 1, 'name': 'Beautiful', 'count': 1262}...</td>\n",
       "      <td>Nature's my muse and it's been my passion. As ...</td>\n",
       "      <td>[Nature, 's, my, muse, and, it, 's, been, my, ...</td>\n",
       "      <td>[nature, 's, my, muse, and, it, 's, been, my, ...</td>\n",
       "      <td>5.420904</td>\n",
       "      <td>1314</td>\n",
       "    </tr>\n",
       "    <tr>\n",
       "      <th>64</th>\n",
       "      <td>Global warming's theme song, \"Manhattan in Jan...</td>\n",
       "      <td>TED2006</td>\n",
       "      <td>39</td>\n",
       "      <td>[{'id': 9, 'name': 'Ingenious', 'count': 45}, ...</td>\n",
       "      <td>Okay.♫ Strolling along in Central Park ♫♫ Ever...</td>\n",
       "      <td>[Okay.♫, Strolling, along, in, Central, Park, ...</td>\n",
       "      <td>[okay.♫, strolling, along, in, central, park, ...</td>\n",
       "      <td>5.298387</td>\n",
       "      <td>185</td>\n",
       "    </tr>\n",
       "    <tr>\n",
       "      <th>76</th>\n",
       "      <td>\"La Vie en Rose\"</td>\n",
       "      <td>TED2004</td>\n",
       "      <td>39</td>\n",
       "      <td>[{'id': 7, 'name': 'Funny', 'count': 58}, {'id...</td>\n",
       "      <td>Thomas Dolby: For pure pleasure please welcome...</td>\n",
       "      <td>[Thomas, Dolby, :, For, pure, pleasure, please...</td>\n",
       "      <td>[thomas, dolby, :, for, pure, pleasure, please...</td>\n",
       "      <td>13.780000</td>\n",
       "      <td>151</td>\n",
       "    </tr>\n",
       "    <tr>\n",
       "      <th>113</th>\n",
       "      <td>My magic moves</td>\n",
       "      <td>TED2007</td>\n",
       "      <td>101</td>\n",
       "      <td>[{'id': 7, 'name': 'Funny', 'count': 307}, {'i...</td>\n",
       "      <td>(Applause)(Music)(Applause)</td>\n",
       "      <td>[(, Applause, ), (, Music, ), (, Applause, )]</td>\n",
       "      <td>[(, applause, ), (, music, ), (, applause, )]</td>\n",
       "      <td>13.666667</td>\n",
       "      <td>9</td>\n",
       "    </tr>\n",
       "    <tr>\n",
       "      <th>215</th>\n",
       "      <td>\"The Dog Song\"</td>\n",
       "      <td>TED2008</td>\n",
       "      <td>45</td>\n",
       "      <td>[{'id': 7, 'name': 'Funny', 'count': 255}, {'i...</td>\n",
       "      <td>I’d like to dedicate this next song to Carmelo...</td>\n",
       "      <td>[I, ’, d, like, to, dedicate, this, next, song...</td>\n",
       "      <td>[i, ’, d, like, to, dedicate, this, next, song...</td>\n",
       "      <td>5.427481</td>\n",
       "      <td>583</td>\n",
       "    </tr>\n",
       "    <tr>\n",
       "      <th>293</th>\n",
       "      <td>Seas of plastic</td>\n",
       "      <td>TED2009</td>\n",
       "      <td>165</td>\n",
       "      <td>[{'id': 25, 'name': 'OK', 'count': 54}, {'id':...</td>\n",
       "      <td>Let's talk trash.You know, we had to be taught...</td>\n",
       "      <td>[Let, 's, talk, trash.You, know, ,, we, had, t...</td>\n",
       "      <td>[let, 's, talk, trash.you, know, ,, we, had, t...</td>\n",
       "      <td>5.026471</td>\n",
       "      <td>1198</td>\n",
       "    </tr>\n",
       "    <tr>\n",
       "      <th>310</th>\n",
       "      <td>Poetry of youth and age</td>\n",
       "      <td>TED2001</td>\n",
       "      <td>39</td>\n",
       "      <td>[{'id': 11, 'name': 'Longwinded', 'count': 27}...</td>\n",
       "      <td>I thought I would read poems I have that relat...</td>\n",
       "      <td>[I, thought, I, would, read, poems, I, have, t...</td>\n",
       "      <td>[i, thought, i, would, read, poems, i, have, t...</td>\n",
       "      <td>5.690902</td>\n",
       "      <td>3294</td>\n",
       "    </tr>\n",
       "    <tr>\n",
       "      <th>382</th>\n",
       "      <td>An all-star set</td>\n",
       "      <td>TED2009</td>\n",
       "      <td>74</td>\n",
       "      <td>[{'id': 3, 'name': 'Courageous', 'count': 14},...</td>\n",
       "      <td>(Music)(Applause)(Music)(Music) (Applause)(Mus...</td>\n",
       "      <td>[(, Music, ), (, Applause, ), (, Music, ), (, ...</td>\n",
       "      <td>[(, music, ), (, applause, ), (, music, ), (, ...</td>\n",
       "      <td>8.880000</td>\n",
       "      <td>53</td>\n",
       "    </tr>\n",
       "    <tr>\n",
       "      <th>496</th>\n",
       "      <td>On violin and cello, \"Passacaglia\"</td>\n",
       "      <td>TED2011</td>\n",
       "      <td>72</td>\n",
       "      <td>[{'id': 1, 'name': 'Beautiful', 'count': 545},...</td>\n",
       "      <td>(Music)(Applause)(Music)(Applause)</td>\n",
       "      <td>[(, Music, ), (, Applause, ), (, Music, ), (, ...</td>\n",
       "      <td>[(, music, ), (, applause, ), (, music, ), (, ...</td>\n",
       "      <td>10.500000</td>\n",
       "      <td>12</td>\n",
       "    </tr>\n",
       "    <tr>\n",
       "      <th>575</th>\n",
       "      <td>Dancing with light</td>\n",
       "      <td>TED2012</td>\n",
       "      <td>109</td>\n",
       "      <td>[{'id': 1, 'name': 'Beautiful', 'count': 411},...</td>\n",
       "      <td>(Music)(Applause)(Music)(Applause)(Music)(Appl...</td>\n",
       "      <td>[(, Music, ), (, Applause, ), (, Music, ), (, ...</td>\n",
       "      <td>[(, music, ), (, applause, ), (, music, ), (, ...</td>\n",
       "      <td>10.500000</td>\n",
       "      <td>24</td>\n",
       "    </tr>\n",
       "    <tr>\n",
       "      <th>648</th>\n",
       "      <td>Two young scientists break down plastics with ...</td>\n",
       "      <td>TED2013</td>\n",
       "      <td>153</td>\n",
       "      <td>[{'id': 9, 'name': 'Ingenious', 'count': 174},...</td>\n",
       "      <td>Miranda Wang: We're here to talk about acciden...</td>\n",
       "      <td>[Miranda, Wang, :, We, 're, here, to, talk, ab...</td>\n",
       "      <td>[miranda, wang, :, we, 're, here, to, talk, ab...</td>\n",
       "      <td>5.109524</td>\n",
       "      <td>1728</td>\n",
       "    </tr>\n",
       "    <tr>\n",
       "      <th>678</th>\n",
       "      <td>Zombie roaches and other parasite tales</td>\n",
       "      <td>TED2014</td>\n",
       "      <td>173</td>\n",
       "      <td>[{'id': 25, 'name': 'OK', 'count': 132}, {'id'...</td>\n",
       "      <td>A herd of wildebeests, a shoal of fish, a floc...</td>\n",
       "      <td>[A, herd, of, wildebeests, ,, a, shoal, of, fi...</td>\n",
       "      <td>[a, herd, of, wildebeests, ,, a, shoal, of, fi...</td>\n",
       "      <td>6.052147</td>\n",
       "      <td>2323</td>\n",
       "    </tr>\n",
       "    <tr>\n",
       "      <th>801</th>\n",
       "      <td>A visual history of inequality in industrial A...</td>\n",
       "      <td>TED2015</td>\n",
       "      <td>43</td>\n",
       "      <td>[{'id': 2, 'name': 'Confusing', 'count': 46}, ...</td>\n",
       "      <td>Along the ancient path of the Monongahela Rive...</td>\n",
       "      <td>[Along, the, ancient, path, of, the, Monongahe...</td>\n",
       "      <td>[along, the, ancient, path, of, the, monongahe...</td>\n",
       "      <td>5.793503</td>\n",
       "      <td>514</td>\n",
       "    </tr>\n",
       "    <tr>\n",
       "      <th>802</th>\n",
       "      <td>An 11-year-old prodigy performs old-school jazz</td>\n",
       "      <td>TED2015</td>\n",
       "      <td>75</td>\n",
       "      <td>[{'id': 1, 'name': 'Beautiful', 'count': 697},...</td>\n",
       "      <td>(Music)(Music) (Applause)(Applause)</td>\n",
       "      <td>[(, Music, ), (, Music, ), (, Applause, ), (, ...</td>\n",
       "      <td>[(, music, ), (, music, ), (, applause, ), (, ...</td>\n",
       "      <td>10.500000</td>\n",
       "      <td>12</td>\n",
       "    </tr>\n",
       "    <tr>\n",
       "      <th>948</th>\n",
       "      <td>A dance to honor Mother Earth</td>\n",
       "      <td>TED2017</td>\n",
       "      <td>6</td>\n",
       "      <td>[{'id': 1, 'name': 'Beautiful', 'count': 84}, ...</td>\n",
       "      <td>Mother Earth: Our end was imminent yet finalit...</td>\n",
       "      <td>[Mother, Earth, :, Our, end, was, imminent, ye...</td>\n",
       "      <td>[mother, earth, :, our, end, was, imminent, ye...</td>\n",
       "      <td>8.720539</td>\n",
       "      <td>420</td>\n",
       "    </tr>\n",
       "  </tbody>\n",
       "</table>\n",
       "</div>"
      ],
      "text/plain": [
       "                                                 title    event  comments  \\\n",
       "62                    The story of life in photographs  TED2005       143   \n",
       "64   Global warming's theme song, \"Manhattan in Jan...  TED2006        39   \n",
       "76                                    \"La Vie en Rose\"  TED2004        39   \n",
       "113                                     My magic moves  TED2007       101   \n",
       "215                                     \"The Dog Song\"  TED2008        45   \n",
       "293                                    Seas of plastic  TED2009       165   \n",
       "310                            Poetry of youth and age  TED2001        39   \n",
       "382                                    An all-star set  TED2009        74   \n",
       "496                 On violin and cello, \"Passacaglia\"  TED2011        72   \n",
       "575                                 Dancing with light  TED2012       109   \n",
       "648  Two young scientists break down plastics with ...  TED2013       153   \n",
       "678            Zombie roaches and other parasite tales  TED2014       173   \n",
       "801  A visual history of inequality in industrial A...  TED2015        43   \n",
       "802    An 11-year-old prodigy performs old-school jazz  TED2015        75   \n",
       "948                      A dance to honor Mother Earth  TED2017         6   \n",
       "\n",
       "                                               ratings  \\\n",
       "62   [{'id': 1, 'name': 'Beautiful', 'count': 1262}...   \n",
       "64   [{'id': 9, 'name': 'Ingenious', 'count': 45}, ...   \n",
       "76   [{'id': 7, 'name': 'Funny', 'count': 58}, {'id...   \n",
       "113  [{'id': 7, 'name': 'Funny', 'count': 307}, {'i...   \n",
       "215  [{'id': 7, 'name': 'Funny', 'count': 255}, {'i...   \n",
       "293  [{'id': 25, 'name': 'OK', 'count': 54}, {'id':...   \n",
       "310  [{'id': 11, 'name': 'Longwinded', 'count': 27}...   \n",
       "382  [{'id': 3, 'name': 'Courageous', 'count': 14},...   \n",
       "496  [{'id': 1, 'name': 'Beautiful', 'count': 545},...   \n",
       "575  [{'id': 1, 'name': 'Beautiful', 'count': 411},...   \n",
       "648  [{'id': 9, 'name': 'Ingenious', 'count': 174},...   \n",
       "678  [{'id': 25, 'name': 'OK', 'count': 132}, {'id'...   \n",
       "801  [{'id': 2, 'name': 'Confusing', 'count': 46}, ...   \n",
       "802  [{'id': 1, 'name': 'Beautiful', 'count': 697},...   \n",
       "948  [{'id': 1, 'name': 'Beautiful', 'count': 84}, ...   \n",
       "\n",
       "                                            transcript  \\\n",
       "62   Nature's my muse and it's been my passion. As ...   \n",
       "64   Okay.♫ Strolling along in Central Park ♫♫ Ever...   \n",
       "76   Thomas Dolby: For pure pleasure please welcome...   \n",
       "113                        (Applause)(Music)(Applause)   \n",
       "215  I’d like to dedicate this next song to Carmelo...   \n",
       "293  Let's talk trash.You know, we had to be taught...   \n",
       "310  I thought I would read poems I have that relat...   \n",
       "382  (Music)(Applause)(Music)(Music) (Applause)(Mus...   \n",
       "496                 (Music)(Applause)(Music)(Applause)   \n",
       "575  (Music)(Applause)(Music)(Applause)(Music)(Appl...   \n",
       "648  Miranda Wang: We're here to talk about acciden...   \n",
       "678  A herd of wildebeests, a shoal of fish, a floc...   \n",
       "801  Along the ancient path of the Monongahela Rive...   \n",
       "802                (Music)(Music) (Applause)(Applause)   \n",
       "948  Mother Earth: Our end was imminent yet finalit...   \n",
       "\n",
       "                                                 token  \\\n",
       "62   [Nature, 's, my, muse, and, it, 's, been, my, ...   \n",
       "64   [Okay.♫, Strolling, along, in, Central, Park, ...   \n",
       "76   [Thomas, Dolby, :, For, pure, pleasure, please...   \n",
       "113      [(, Applause, ), (, Music, ), (, Applause, )]   \n",
       "215  [I, ’, d, like, to, dedicate, this, next, song...   \n",
       "293  [Let, 's, talk, trash.You, know, ,, we, had, t...   \n",
       "310  [I, thought, I, would, read, poems, I, have, t...   \n",
       "382  [(, Music, ), (, Applause, ), (, Music, ), (, ...   \n",
       "496  [(, Music, ), (, Applause, ), (, Music, ), (, ...   \n",
       "575  [(, Music, ), (, Applause, ), (, Music, ), (, ...   \n",
       "648  [Miranda, Wang, :, We, 're, here, to, talk, ab...   \n",
       "678  [A, herd, of, wildebeests, ,, a, shoal, of, fi...   \n",
       "801  [Along, the, ancient, path, of, the, Monongahe...   \n",
       "802  [(, Music, ), (, Music, ), (, Applause, ), (, ...   \n",
       "948  [Mother, Earth, :, Our, end, was, imminent, ye...   \n",
       "\n",
       "                                               tok_low  kband_ave  tok_count  \n",
       "62   [nature, 's, my, muse, and, it, 's, been, my, ...   5.420904       1314  \n",
       "64   [okay.♫, strolling, along, in, central, park, ...   5.298387        185  \n",
       "76   [thomas, dolby, :, for, pure, pleasure, please...  13.780000        151  \n",
       "113      [(, applause, ), (, music, ), (, applause, )]  13.666667          9  \n",
       "215  [i, ’, d, like, to, dedicate, this, next, song...   5.427481        583  \n",
       "293  [let, 's, talk, trash.you, know, ,, we, had, t...   5.026471       1198  \n",
       "310  [i, thought, i, would, read, poems, i, have, t...   5.690902       3294  \n",
       "382  [(, music, ), (, applause, ), (, music, ), (, ...   8.880000         53  \n",
       "496  [(, music, ), (, applause, ), (, music, ), (, ...  10.500000         12  \n",
       "575  [(, music, ), (, applause, ), (, music, ), (, ...  10.500000         24  \n",
       "648  [miranda, wang, :, we, 're, here, to, talk, ab...   5.109524       1728  \n",
       "678  [a, herd, of, wildebeests, ,, a, shoal, of, fi...   6.052147       2323  \n",
       "801  [along, the, ancient, path, of, the, monongahe...   5.793503        514  \n",
       "802  [(, music, ), (, music, ), (, applause, ), (, ...  10.500000         12  \n",
       "948  [mother, earth, :, our, end, was, imminent, ye...   8.720539        420  "
      ]
     },
     "execution_count": 20,
     "metadata": {},
     "output_type": "execute_result"
    }
   ],
   "source": [
    "ted_clean[ted_clean.kband_ave > 5]"
   ]
  },
  {
   "attachments": {},
   "cell_type": "markdown",
   "metadata": {},
   "source": [
    "* I have checked how many rows have the average k-band higher than 5, and there are only 15, and all of them are not a *real* talk; dance, song, visualization of something, etc. So, I will remove these values from the data set."
   ]
  },
  {
   "cell_type": "code",
   "execution_count": 21,
   "metadata": {},
   "outputs": [],
   "source": [
    "ted_clean = ted_clean[ted_clean.kband_ave < 5]"
   ]
  },
  {
   "cell_type": "code",
   "execution_count": 22,
   "metadata": {},
   "outputs": [
    {
     "name": "stdout",
     "output_type": "stream",
     "text": [
      "<class 'pandas.core.frame.DataFrame'>\n",
      "Int64Index: 957 entries, 0 to 971\n",
      "Data columns (total 9 columns):\n",
      " #   Column      Non-Null Count  Dtype  \n",
      "---  ------      --------------  -----  \n",
      " 0   title       957 non-null    object \n",
      " 1   event       957 non-null    object \n",
      " 2   comments    957 non-null    int64  \n",
      " 3   ratings     957 non-null    object \n",
      " 4   transcript  957 non-null    object \n",
      " 5   token       957 non-null    object \n",
      " 6   tok_low     957 non-null    object \n",
      " 7   kband_ave   957 non-null    float64\n",
      " 8   tok_count   957 non-null    int64  \n",
      "dtypes: float64(1), int64(2), object(6)\n",
      "memory usage: 74.8+ KB\n"
     ]
    }
   ],
   "source": [
    "ted_clean.info()"
   ]
  },
  {
   "attachments": {},
   "cell_type": "markdown",
   "metadata": {},
   "source": [
    "#### Trying to find a way to incorporate `comments` information.. "
   ]
  },
  {
   "cell_type": "code",
   "execution_count": 23,
   "metadata": {},
   "outputs": [],
   "source": [
    "# reset index for future data wrangling\n",
    "ted_clean.reset_index(drop=True, inplace=True)"
   ]
  },
  {
   "cell_type": "code",
   "execution_count": 24,
   "metadata": {},
   "outputs": [],
   "source": [
    "# take log on comments column\n",
    "ted_clean['log_com'] = ted_clean['comments'].map(math.log)"
   ]
  },
  {
   "cell_type": "code",
   "execution_count": 25,
   "metadata": {},
   "outputs": [
    {
     "name": "stderr",
     "output_type": "stream",
     "text": [
      "c:\\Users\\82102\\anaconda3\\lib\\site-packages\\seaborn\\_decorators.py:36: FutureWarning: Pass the following variables as keyword args: x, y. From version 0.12, the only valid positional argument will be `data`, and passing other arguments without an explicit keyword will result in an error or misinterpretation.\n",
      "  warnings.warn(\n"
     ]
    },
    {
     "data": {
      "text/plain": [
       "<AxesSubplot:xlabel='log_com', ylabel='kband_ave'>"
      ]
     },
     "execution_count": 25,
     "metadata": {},
     "output_type": "execute_result"
    },
    {
     "data": {
      "image/png": "[encoded data removed]",
      "text/plain": [
       "<Figure size 640x480 with 1 Axes>"
      ]
     },
     "metadata": {},
     "output_type": "display_data"
    }
   ],
   "source": [
    "# make a scatter plot to see if there is any linear correlation between comments and kband\n",
    "sns.scatterplot(ted_clean['log_com'], ted_clean['kband_ave'])"
   ]
  },
  {
   "attachments": {},
   "cell_type": "markdown",
   "metadata": {},
   "source": [
    "* No correlation between `comments` and the average k-band.."
   ]
  },
  {
   "cell_type": "code",
   "execution_count": 26,
   "metadata": {},
   "outputs": [],
   "source": [
    "import re"
   ]
  },
  {
   "cell_type": "code",
   "execution_count": 27,
   "metadata": {},
   "outputs": [],
   "source": [
    "# remove unnecessary strings\n",
    "ted_clean['ratings_tok'] = ted_clean.ratings.map(lambda x: re.sub(r'\\[|\\]|\\{|\\}|:|,|\\'', '', x))"
   ]
  },
  {
   "cell_type": "code",
   "execution_count": 28,
   "metadata": {},
   "outputs": [
    {
     "data": {
      "text/html": [
       "<div>\n",
       "<style scoped>\n",
       "    .dataframe tbody tr th:only-of-type {\n",
       "        vertical-align: middle;\n",
       "    }\n",
       "\n",
       "    .dataframe tbody tr th {\n",
       "        vertical-align: top;\n",
       "    }\n",
       "\n",
       "    .dataframe thead th {\n",
       "        text-align: right;\n",
       "    }\n",
       "</style>\n",
       "<table border=\"1\" class=\"dataframe\">\n",
       "  <thead>\n",
       "    <tr style=\"text-align: right;\">\n",
       "      <th></th>\n",
       "      <th>title</th>\n",
       "      <th>event</th>\n",
       "      <th>comments</th>\n",
       "      <th>ratings</th>\n",
       "      <th>transcript</th>\n",
       "      <th>token</th>\n",
       "      <th>tok_low</th>\n",
       "      <th>kband_ave</th>\n",
       "      <th>tok_count</th>\n",
       "      <th>log_com</th>\n",
       "      <th>ratings_tok</th>\n",
       "    </tr>\n",
       "  </thead>\n",
       "  <tbody>\n",
       "    <tr>\n",
       "      <th>0</th>\n",
       "      <td>Do schools kill creativity?</td>\n",
       "      <td>TED2006</td>\n",
       "      <td>4553</td>\n",
       "      <td>[{'id': 7, 'name': 'Funny', 'count': 19645}, {...</td>\n",
       "      <td>Good morning. How are you?(Laughter)It's been ...</td>\n",
       "      <td>[Good, morning, ., How, are, you, ?, (, Laught...</td>\n",
       "      <td>[good, morning, ., how, are, you, ?, (, laught...</td>\n",
       "      <td>2.712990</td>\n",
       "      <td>3938</td>\n",
       "      <td>8.423542</td>\n",
       "      <td>id 7 name Funny count 19645 id 1 name Beautifu...</td>\n",
       "    </tr>\n",
       "    <tr>\n",
       "      <th>1</th>\n",
       "      <td>Averting the climate crisis</td>\n",
       "      <td>TED2006</td>\n",
       "      <td>265</td>\n",
       "      <td>[{'id': 7, 'name': 'Funny', 'count': 544}, {'i...</td>\n",
       "      <td>Thank you so much, Chris. And it's truly a gre...</td>\n",
       "      <td>[Thank, you, so, much, ,, Chris, ., And, it, '...</td>\n",
       "      <td>[thank, you, so, much, ,, chris, ., and, it, '...</td>\n",
       "      <td>2.777508</td>\n",
       "      <td>2556</td>\n",
       "      <td>5.579730</td>\n",
       "      <td>id 7 name Funny count 544 id 3 name Courageous...</td>\n",
       "    </tr>\n",
       "    <tr>\n",
       "      <th>2</th>\n",
       "      <td>Simplicity sells</td>\n",
       "      <td>TED2006</td>\n",
       "      <td>124</td>\n",
       "      <td>[{'id': 7, 'name': 'Funny', 'count': 964}, {'i...</td>\n",
       "      <td>(Music: \"The Sound of Silence,\" Simon &amp; Garfun...</td>\n",
       "      <td>[(, Music, :, ``, The, Sound, of, Silence, ,, ...</td>\n",
       "      <td>[(, music, :, ``, the, sound, of, silence, ,, ...</td>\n",
       "      <td>2.750460</td>\n",
       "      <td>4262</td>\n",
       "      <td>4.820282</td>\n",
       "      <td>id 7 name Funny count 964 id 3 name Courageous...</td>\n",
       "    </tr>\n",
       "    <tr>\n",
       "      <th>3</th>\n",
       "      <td>Greening the ghetto</td>\n",
       "      <td>TED2006</td>\n",
       "      <td>200</td>\n",
       "      <td>[{'id': 3, 'name': 'Courageous', 'count': 760}...</td>\n",
       "      <td>If you're here today — and I'm very happy that...</td>\n",
       "      <td>[If, you, 're, here, today, —, and, I, 'm, ver...</td>\n",
       "      <td>[if, you, 're, here, today, —, and, i, 'm, ver...</td>\n",
       "      <td>3.192360</td>\n",
       "      <td>3533</td>\n",
       "      <td>5.298317</td>\n",
       "      <td>id 3 name Courageous count 760 id 1 name Beaut...</td>\n",
       "    </tr>\n",
       "    <tr>\n",
       "      <th>4</th>\n",
       "      <td>The best stats you've ever seen</td>\n",
       "      <td>TED2006</td>\n",
       "      <td>593</td>\n",
       "      <td>[{'id': 9, 'name': 'Ingenious', 'count': 3202}...</td>\n",
       "      <td>About 10 years ago, I took on the task to teac...</td>\n",
       "      <td>[About, 10, years, ago, ,, I, took, on, the, t...</td>\n",
       "      <td>[about, 10, years, ago, ,, i, took, on, the, t...</td>\n",
       "      <td>2.155352</td>\n",
       "      <td>3715</td>\n",
       "      <td>6.385194</td>\n",
       "      <td>id 9 name Ingenious count 3202 id 7 name Funny...</td>\n",
       "    </tr>\n",
       "  </tbody>\n",
       "</table>\n",
       "</div>"
      ],
      "text/plain": [
       "                             title    event  comments  \\\n",
       "0      Do schools kill creativity?  TED2006      4553   \n",
       "1      Averting the climate crisis  TED2006       265   \n",
       "2                 Simplicity sells  TED2006       124   \n",
       "3              Greening the ghetto  TED2006       200   \n",
       "4  The best stats you've ever seen  TED2006       593   \n",
       "\n",
       "                                             ratings  \\\n",
       "0  [{'id': 7, 'name': 'Funny', 'count': 19645}, {...   \n",
       "1  [{'id': 7, 'name': 'Funny', 'count': 544}, {'i...   \n",
       "2  [{'id': 7, 'name': 'Funny', 'count': 964}, {'i...   \n",
       "3  [{'id': 3, 'name': 'Courageous', 'count': 760}...   \n",
       "4  [{'id': 9, 'name': 'Ingenious', 'count': 3202}...   \n",
       "\n",
       "                                          transcript  \\\n",
       "0  Good morning. How are you?(Laughter)It's been ...   \n",
       "1  Thank you so much, Chris. And it's truly a gre...   \n",
       "2  (Music: \"The Sound of Silence,\" Simon & Garfun...   \n",
       "3  If you're here today — and I'm very happy that...   \n",
       "4  About 10 years ago, I took on the task to teac...   \n",
       "\n",
       "                                               token  \\\n",
       "0  [Good, morning, ., How, are, you, ?, (, Laught...   \n",
       "1  [Thank, you, so, much, ,, Chris, ., And, it, '...   \n",
       "2  [(, Music, :, ``, The, Sound, of, Silence, ,, ...   \n",
       "3  [If, you, 're, here, today, —, and, I, 'm, ver...   \n",
       "4  [About, 10, years, ago, ,, I, took, on, the, t...   \n",
       "\n",
       "                                             tok_low  kband_ave  tok_count  \\\n",
       "0  [good, morning, ., how, are, you, ?, (, laught...   2.712990       3938   \n",
       "1  [thank, you, so, much, ,, chris, ., and, it, '...   2.777508       2556   \n",
       "2  [(, music, :, ``, the, sound, of, silence, ,, ...   2.750460       4262   \n",
       "3  [if, you, 're, here, today, —, and, i, 'm, ver...   3.192360       3533   \n",
       "4  [about, 10, years, ago, ,, i, took, on, the, t...   2.155352       3715   \n",
       "\n",
       "    log_com                                        ratings_tok  \n",
       "0  8.423542  id 7 name Funny count 19645 id 1 name Beautifu...  \n",
       "1  5.579730  id 7 name Funny count 544 id 3 name Courageous...  \n",
       "2  4.820282  id 7 name Funny count 964 id 3 name Courageous...  \n",
       "3  5.298317  id 3 name Courageous count 760 id 1 name Beaut...  \n",
       "4  6.385194  id 9 name Ingenious count 3202 id 7 name Funny...  "
      ]
     },
     "execution_count": 28,
     "metadata": {},
     "output_type": "execute_result"
    }
   ],
   "source": [
    "ted_clean.head()"
   ]
  },
  {
   "cell_type": "code",
   "execution_count": 29,
   "metadata": {},
   "outputs": [
    {
     "name": "stdout",
     "output_type": "stream",
     "text": [
      "['OK', 'Inspiring', 'Informative', 'Ingenious', 'Confusing', 'Fascinating', 'Unconvincing', 'Persuasive', 'Funny', 'Obnoxious', 'Beautiful', 'Longwinded', 'Jaw-dropping', 'Courageous']\n"
     ]
    }
   ],
   "source": [
    "# collect rating names only\n",
    "rating_name = []\n",
    "for i in ted_clean.ratings_tok.map(nltk.word_tokenize):\n",
    "    for j in i:\n",
    "        if j[0].isupper():\n",
    "            rating_name.append(j) \n",
    "print(list(set(rating_name)))"
   ]
  },
  {
   "cell_type": "code",
   "execution_count": 30,
   "metadata": {},
   "outputs": [
    {
     "data": {
      "text/plain": [
       "14"
      ]
     },
     "execution_count": 30,
     "metadata": {},
     "output_type": "execute_result"
    }
   ],
   "source": [
    "len(set(rating_name))"
   ]
  },
  {
   "attachments": {},
   "cell_type": "markdown",
   "metadata": {},
   "source": [
    "* So, there are 14 different rating kinds.\n",
    "* 4 out of 14 ratings are negative ratings"
   ]
  },
  {
   "cell_type": "code",
   "execution_count": 31,
   "metadata": {},
   "outputs": [],
   "source": [
    "# make lists for positive/negative ratings, removing 'OK' from positive list\n",
    "negative = ['Unconvincing', 'Obnoxious', 'Confusing', 'Longwinded']\n",
    "positive = [w for w in set(rating_name) if w not in negative]\n",
    "positive.remove('OK')"
   ]
  },
  {
   "cell_type": "code",
   "execution_count": 32,
   "metadata": {},
   "outputs": [],
   "source": [
    "rating_split = ted_clean['ratings_tok'].str.split(' ')"
   ]
  },
  {
   "cell_type": "code",
   "execution_count": 33,
   "metadata": {},
   "outputs": [
    {
     "data": {
      "text/plain": [
       "0      id\n",
       "1      id\n",
       "2      id\n",
       "3      id\n",
       "4      id\n",
       "       ..\n",
       "952    id\n",
       "953    id\n",
       "954    id\n",
       "955    id\n",
       "956    id\n",
       "Name: ratings_tok, Length: 957, dtype: object"
      ]
     },
     "execution_count": 33,
     "metadata": {},
     "output_type": "execute_result"
    }
   ],
   "source": [
    "# !!!!!!!!!!!!!!! found a way to extract the only information I need!\n",
    "rating_split.str.get(0)"
   ]
  },
  {
   "cell_type": "code",
   "execution_count": 34,
   "metadata": {},
   "outputs": [
    {
     "name": "stdout",
     "output_type": "stream",
     "text": [
      "                    0             1             2           3           4    \\\n",
      "ratings_tok       Funny         Funny         Funny  Courageous   Ingenious   \n",
      "ratings_tok   Beautiful    Courageous    Courageous   Beautiful       Funny   \n",
      "ratings_tok   Ingenious     Confusing     Ingenious   Confusing   Beautiful   \n",
      "ratings_tok  Courageous     Beautiful     Beautiful       Funny  Courageous   \n",
      "ratings_tok  Longwinded  Unconvincing  Unconvincing   Ingenious  Longwinded   \n",
      "\n",
      "                      5             6             7             8    \\\n",
      "ratings_tok         Funny    Courageous     Ingenious    Courageous   \n",
      "ratings_tok    Courageous         Funny     Beautiful     Confusing   \n",
      "ratings_tok  Unconvincing     Ingenious    Longwinded  Unconvincing   \n",
      "ratings_tok     Confusing  Unconvincing    Courageous         Funny   \n",
      "ratings_tok     Beautiful     Beautiful  Unconvincing    Longwinded   \n",
      "\n",
      "                      9    ...          947          948           949  \\\n",
      "ratings_tok  Unconvincing  ...    Confusing           OK     Beautiful   \n",
      "ratings_tok     Beautiful  ...        Funny  Informative    Persuasive   \n",
      "ratings_tok    Courageous  ...    Ingenious    Inspiring     Ingenious   \n",
      "ratings_tok     Ingenious  ...  Fascinating  Fascinating  Jaw-dropping   \n",
      "ratings_tok    Longwinded  ...    Inspiring   Courageous     Inspiring   \n",
      "\n",
      "                     950          951          952          953           954  \\\n",
      "ratings_tok    Beautiful    Inspiring    Beautiful   Courageous   Fascinating   \n",
      "ratings_tok   Courageous  Informative  Informative  Informative   Informative   \n",
      "ratings_tok  Informative    Ingenious    Inspiring    Inspiring     Inspiring   \n",
      "ratings_tok    Inspiring  Fascinating    Ingenious        Funny    Persuasive   \n",
      "ratings_tok           OK   Persuasive   Courageous   Persuasive  Jaw-dropping   \n",
      "\n",
      "                     955           956  \n",
      "ratings_tok    Beautiful  Unconvincing  \n",
      "ratings_tok  Informative   Informative  \n",
      "ratings_tok    Ingenious     Inspiring  \n",
      "ratings_tok    Inspiring            OK  \n",
      "ratings_tok   Courageous   Fascinating  \n",
      "\n",
      "[5 rows x 957 columns]\n"
     ]
    }
   ],
   "source": [
    "# extract rating name only in each value\n",
    "x = []\n",
    "for i in range(3, 85, 6):\n",
    "    x.append(rating_split.str.get(i))\n",
    "print(pd.DataFrame(x).head())"
   ]
  },
  {
   "cell_type": "code",
   "execution_count": 35,
   "metadata": {},
   "outputs": [
    {
     "name": "stdout",
     "output_type": "stream",
     "text": [
      "               0    1    2    3     4     5     6    7    8    9    ...  947  \\\n",
      "ratings_tok  19645  544  964  760  3202  1102   477  195  562  838  ...    2   \n",
      "ratings_tok   4573  139   45  291  1390   721  2484   98   70  767  ...   32   \n",
      "ratings_tok   6073   62  183   32   942   377   320   26  283  476  ...   67   \n",
      "ratings_tok   3253   58   60   59   318   301   225   34   60  116  ...   79   \n",
      "ratings_tok    387  258  104  105   110   706   277   26  177  306  ...  148   \n",
      "\n",
      "             948 949  950 951 952 953 954 955 956  \n",
      "ratings_tok   26  29  484  73  13  24  32  14  21  \n",
      "ratings_tok  214   7  109  78  68  33  38  32  25  \n",
      "ratings_tok  218  20  294  19  41  27  20  19  26  \n",
      "ratings_tok  170  13  677  28  31   1   7  30  11  \n",
      "ratings_tok   71  42   61  36   6  24   8   2   9  \n",
      "\n",
      "[5 rows x 957 columns]\n"
     ]
    }
   ],
   "source": [
    "# extract rating count only\n",
    "y = []\n",
    "for i in range(5, 85, 6):\n",
    "    y.append(rating_split.str.get(i))\n",
    "print(pd.DataFrame(y).head())"
   ]
  },
  {
   "cell_type": "code",
   "execution_count": 36,
   "metadata": {},
   "outputs": [],
   "source": [
    "# make them into a dataframe, removing index\n",
    "X = pd.DataFrame(x)\n",
    "Y = pd.DataFrame(y)\n",
    "X.reset_index(drop = True, inplace = True)\n",
    "Y.reset_index(drop = True, inplace = True)"
   ]
  },
  {
   "cell_type": "code",
   "execution_count": 37,
   "metadata": {},
   "outputs": [],
   "source": [
    "# make a new df containing tuples of rating name and rating count\n",
    "new_df = pd.DataFrame(index=range(X.shape[1]), columns=['rating'])\n",
    "\n",
    "for i in range(X.shape[1]):\n",
    "    new_df.rating[i] = tuple(zip(X[i], Y[i]))\n",
    "    "
   ]
  },
  {
   "cell_type": "code",
   "execution_count": 38,
   "metadata": {},
   "outputs": [],
   "source": [
    "# insert it to the main dataset\n",
    "ted_clean['ratings_tuple'] = new_df.rating"
   ]
  },
  {
   "cell_type": "code",
   "execution_count": 39,
   "metadata": {},
   "outputs": [
    {
     "data": {
      "text/html": [
       "<div>\n",
       "<style scoped>\n",
       "    .dataframe tbody tr th:only-of-type {\n",
       "        vertical-align: middle;\n",
       "    }\n",
       "\n",
       "    .dataframe tbody tr th {\n",
       "        vertical-align: top;\n",
       "    }\n",
       "\n",
       "    .dataframe thead th {\n",
       "        text-align: right;\n",
       "    }\n",
       "</style>\n",
       "<table border=\"1\" class=\"dataframe\">\n",
       "  <thead>\n",
       "    <tr style=\"text-align: right;\">\n",
       "      <th></th>\n",
       "      <th>title</th>\n",
       "      <th>event</th>\n",
       "      <th>comments</th>\n",
       "      <th>ratings</th>\n",
       "      <th>transcript</th>\n",
       "      <th>token</th>\n",
       "      <th>tok_low</th>\n",
       "      <th>kband_ave</th>\n",
       "      <th>tok_count</th>\n",
       "      <th>log_com</th>\n",
       "      <th>ratings_tok</th>\n",
       "      <th>ratings_tuple</th>\n",
       "    </tr>\n",
       "  </thead>\n",
       "  <tbody>\n",
       "    <tr>\n",
       "      <th>0</th>\n",
       "      <td>Do schools kill creativity?</td>\n",
       "      <td>TED2006</td>\n",
       "      <td>4553</td>\n",
       "      <td>[{'id': 7, 'name': 'Funny', 'count': 19645}, {...</td>\n",
       "      <td>Good morning. How are you?(Laughter)It's been ...</td>\n",
       "      <td>[Good, morning, ., How, are, you, ?, (, Laught...</td>\n",
       "      <td>[good, morning, ., how, are, you, ?, (, laught...</td>\n",
       "      <td>2.712990</td>\n",
       "      <td>3938</td>\n",
       "      <td>8.423542</td>\n",
       "      <td>id 7 name Funny count 19645 id 1 name Beautifu...</td>\n",
       "      <td>((Funny, 19645), (Beautiful, 4573), (Ingenious...</td>\n",
       "    </tr>\n",
       "    <tr>\n",
       "      <th>1</th>\n",
       "      <td>Averting the climate crisis</td>\n",
       "      <td>TED2006</td>\n",
       "      <td>265</td>\n",
       "      <td>[{'id': 7, 'name': 'Funny', 'count': 544}, {'i...</td>\n",
       "      <td>Thank you so much, Chris. And it's truly a gre...</td>\n",
       "      <td>[Thank, you, so, much, ,, Chris, ., And, it, '...</td>\n",
       "      <td>[thank, you, so, much, ,, chris, ., and, it, '...</td>\n",
       "      <td>2.777508</td>\n",
       "      <td>2556</td>\n",
       "      <td>5.579730</td>\n",
       "      <td>id 7 name Funny count 544 id 3 name Courageous...</td>\n",
       "      <td>((Funny, 544), (Courageous, 139), (Confusing, ...</td>\n",
       "    </tr>\n",
       "    <tr>\n",
       "      <th>2</th>\n",
       "      <td>Simplicity sells</td>\n",
       "      <td>TED2006</td>\n",
       "      <td>124</td>\n",
       "      <td>[{'id': 7, 'name': 'Funny', 'count': 964}, {'i...</td>\n",
       "      <td>(Music: \"The Sound of Silence,\" Simon &amp; Garfun...</td>\n",
       "      <td>[(, Music, :, ``, The, Sound, of, Silence, ,, ...</td>\n",
       "      <td>[(, music, :, ``, the, sound, of, silence, ,, ...</td>\n",
       "      <td>2.750460</td>\n",
       "      <td>4262</td>\n",
       "      <td>4.820282</td>\n",
       "      <td>id 7 name Funny count 964 id 3 name Courageous...</td>\n",
       "      <td>((Funny, 964), (Courageous, 45), (Ingenious, 1...</td>\n",
       "    </tr>\n",
       "    <tr>\n",
       "      <th>3</th>\n",
       "      <td>Greening the ghetto</td>\n",
       "      <td>TED2006</td>\n",
       "      <td>200</td>\n",
       "      <td>[{'id': 3, 'name': 'Courageous', 'count': 760}...</td>\n",
       "      <td>If you're here today — and I'm very happy that...</td>\n",
       "      <td>[If, you, 're, here, today, —, and, I, 'm, ver...</td>\n",
       "      <td>[if, you, 're, here, today, —, and, i, 'm, ver...</td>\n",
       "      <td>3.192360</td>\n",
       "      <td>3533</td>\n",
       "      <td>5.298317</td>\n",
       "      <td>id 3 name Courageous count 760 id 1 name Beaut...</td>\n",
       "      <td>((Courageous, 760), (Beautiful, 291), (Confusi...</td>\n",
       "    </tr>\n",
       "    <tr>\n",
       "      <th>4</th>\n",
       "      <td>The best stats you've ever seen</td>\n",
       "      <td>TED2006</td>\n",
       "      <td>593</td>\n",
       "      <td>[{'id': 9, 'name': 'Ingenious', 'count': 3202}...</td>\n",
       "      <td>About 10 years ago, I took on the task to teac...</td>\n",
       "      <td>[About, 10, years, ago, ,, I, took, on, the, t...</td>\n",
       "      <td>[about, 10, years, ago, ,, i, took, on, the, t...</td>\n",
       "      <td>2.155352</td>\n",
       "      <td>3715</td>\n",
       "      <td>6.385194</td>\n",
       "      <td>id 9 name Ingenious count 3202 id 7 name Funny...</td>\n",
       "      <td>((Ingenious, 3202), (Funny, 1390), (Beautiful,...</td>\n",
       "    </tr>\n",
       "  </tbody>\n",
       "</table>\n",
       "</div>"
      ],
      "text/plain": [
       "                             title    event  comments  \\\n",
       "0      Do schools kill creativity?  TED2006      4553   \n",
       "1      Averting the climate crisis  TED2006       265   \n",
       "2                 Simplicity sells  TED2006       124   \n",
       "3              Greening the ghetto  TED2006       200   \n",
       "4  The best stats you've ever seen  TED2006       593   \n",
       "\n",
       "                                             ratings  \\\n",
       "0  [{'id': 7, 'name': 'Funny', 'count': 19645}, {...   \n",
       "1  [{'id': 7, 'name': 'Funny', 'count': 544}, {'i...   \n",
       "2  [{'id': 7, 'name': 'Funny', 'count': 964}, {'i...   \n",
       "3  [{'id': 3, 'name': 'Courageous', 'count': 760}...   \n",
       "4  [{'id': 9, 'name': 'Ingenious', 'count': 3202}...   \n",
       "\n",
       "                                          transcript  \\\n",
       "0  Good morning. How are you?(Laughter)It's been ...   \n",
       "1  Thank you so much, Chris. And it's truly a gre...   \n",
       "2  (Music: \"The Sound of Silence,\" Simon & Garfun...   \n",
       "3  If you're here today — and I'm very happy that...   \n",
       "4  About 10 years ago, I took on the task to teac...   \n",
       "\n",
       "                                               token  \\\n",
       "0  [Good, morning, ., How, are, you, ?, (, Laught...   \n",
       "1  [Thank, you, so, much, ,, Chris, ., And, it, '...   \n",
       "2  [(, Music, :, ``, The, Sound, of, Silence, ,, ...   \n",
       "3  [If, you, 're, here, today, —, and, I, 'm, ver...   \n",
       "4  [About, 10, years, ago, ,, I, took, on, the, t...   \n",
       "\n",
       "                                             tok_low  kband_ave  tok_count  \\\n",
       "0  [good, morning, ., how, are, you, ?, (, laught...   2.712990       3938   \n",
       "1  [thank, you, so, much, ,, chris, ., and, it, '...   2.777508       2556   \n",
       "2  [(, music, :, ``, the, sound, of, silence, ,, ...   2.750460       4262   \n",
       "3  [if, you, 're, here, today, —, and, i, 'm, ver...   3.192360       3533   \n",
       "4  [about, 10, years, ago, ,, i, took, on, the, t...   2.155352       3715   \n",
       "\n",
       "    log_com                                        ratings_tok  \\\n",
       "0  8.423542  id 7 name Funny count 19645 id 1 name Beautifu...   \n",
       "1  5.579730  id 7 name Funny count 544 id 3 name Courageous...   \n",
       "2  4.820282  id 7 name Funny count 964 id 3 name Courageous...   \n",
       "3  5.298317  id 3 name Courageous count 760 id 1 name Beaut...   \n",
       "4  6.385194  id 9 name Ingenious count 3202 id 7 name Funny...   \n",
       "\n",
       "                                       ratings_tuple  \n",
       "0  ((Funny, 19645), (Beautiful, 4573), (Ingenious...  \n",
       "1  ((Funny, 544), (Courageous, 139), (Confusing, ...  \n",
       "2  ((Funny, 964), (Courageous, 45), (Ingenious, 1...  \n",
       "3  ((Courageous, 760), (Beautiful, 291), (Confusi...  \n",
       "4  ((Ingenious, 3202), (Funny, 1390), (Beautiful,...  "
      ]
     },
     "execution_count": 39,
     "metadata": {},
     "output_type": "execute_result"
    }
   ],
   "source": [
    "ted_clean.head()"
   ]
  },
  {
   "cell_type": "code",
   "execution_count": 40,
   "metadata": {},
   "outputs": [
    {
     "name": "stdout",
     "output_type": "stream",
     "text": [
      "POS 21.197505287237256\n",
      "POS 4.934395096896716\n",
      "POS 6.552937114247486\n",
      "POS 3.5100781216280375\n",
      "NEG 0.41758384047649877\n",
      "NEG 0.2611247787992576\n",
      "POS 7.9265397729725064\n",
      "POS 11.417195390392335\n",
      "NEG 0.32370840347015406\n",
      "POS 11.549915835815098\n",
      "POS 4.789805343346713\n",
      "NEG 1.2667788855798696\n",
      "NEG 0.22551685441754069\n",
      "POS 26.893694160300402\n",
      "(98.77206612283655, 2.4947127627433203)\n"
     ]
    }
   ],
   "source": [
    "# test a code to calculate each percentage of positive review and negative review\n",
    "\n",
    "total = 0\n",
    "pos_total = 0\n",
    "neg_total = 0\n",
    "\n",
    "for name, count in ted_clean.ratings_tuple[0]:\n",
    "    if name != \"OK\":\n",
    "        total += int(count)\n",
    "\n",
    "for name, count in ted_clean.ratings_tuple[0]:\n",
    "    if name in positive:\n",
    "        if name != \"OK\":\n",
    "            name = \"POS\"\n",
    "            count = (int(count)*100)/total\n",
    "        else:\n",
    "            name = \"OK\"\n",
    "    else:\n",
    "        name = \"NEG\"\n",
    "        count = (int(count)*100)/total\n",
    "\n",
    "    print(name, count)\n",
    "\n",
    "    if name == \"POS\":\n",
    "        pos_total += count\n",
    "    elif name == \"NEG\":\n",
    "        neg_total += count\n",
    "\n",
    "\n",
    "print((pos_total, neg_total))"
   ]
  },
  {
   "cell_type": "code",
   "execution_count": 41,
   "metadata": {},
   "outputs": [],
   "source": [
    "# build a function based on the code above converting it to list comprehension\n",
    "\n",
    "def cal_perc(data):\n",
    "\n",
    "    total = sum([int(count) for (name, count) in data])\n",
    "\n",
    "    pos_total = sum([int(count) for (name, count) in data if name in positive])\n",
    "    neg_total = sum([int(count) for (name, count) in data if name in negative])\n",
    "\n",
    "    return (round(pos_total*100/total, 4), round(neg_total*100/total, 4))"
   ]
  },
  {
   "cell_type": "code",
   "execution_count": 42,
   "metadata": {},
   "outputs": [],
   "source": [
    "ted_clean['pos_neg'] = ted_clean.ratings_tuple.map(lambda x: cal_perc(x))"
   ]
  },
  {
   "cell_type": "code",
   "execution_count": 43,
   "metadata": {},
   "outputs": [
    {
     "data": {
      "text/html": [
       "<div>\n",
       "<style scoped>\n",
       "    .dataframe tbody tr th:only-of-type {\n",
       "        vertical-align: middle;\n",
       "    }\n",
       "\n",
       "    .dataframe tbody tr th {\n",
       "        vertical-align: top;\n",
       "    }\n",
       "\n",
       "    .dataframe thead th {\n",
       "        text-align: right;\n",
       "    }\n",
       "</style>\n",
       "<table border=\"1\" class=\"dataframe\">\n",
       "  <thead>\n",
       "    <tr style=\"text-align: right;\">\n",
       "      <th></th>\n",
       "      <th>pos_neg</th>\n",
       "    </tr>\n",
       "  </thead>\n",
       "  <tbody>\n",
       "    <tr>\n",
       "      <th>0</th>\n",
       "      <td>(97.5365, 1.2126)</td>\n",
       "    </tr>\n",
       "    <tr>\n",
       "      <th>1</th>\n",
       "      <td>(73.876, 19.2098)</td>\n",
       "    </tr>\n",
       "    <tr>\n",
       "      <th>2</th>\n",
       "      <td>(82.4008, 12.4292)</td>\n",
       "    </tr>\n",
       "    <tr>\n",
       "      <th>3</th>\n",
       "      <td>(93.5354, 4.1845)</td>\n",
       "    </tr>\n",
       "    <tr>\n",
       "      <th>4</th>\n",
       "      <td>(97.822, 1.21)</td>\n",
       "    </tr>\n",
       "    <tr>\n",
       "      <th>5</th>\n",
       "      <td>(88.6754, 8.4527)</td>\n",
       "    </tr>\n",
       "    <tr>\n",
       "      <th>6</th>\n",
       "      <td>(81.8606, 13.0043)</td>\n",
       "    </tr>\n",
       "    <tr>\n",
       "      <th>7</th>\n",
       "      <td>(85.8398, 8.0078)</td>\n",
       "    </tr>\n",
       "    <tr>\n",
       "      <th>8</th>\n",
       "      <td>(80.5626, 15.5347)</td>\n",
       "    </tr>\n",
       "    <tr>\n",
       "      <th>9</th>\n",
       "      <td>(77.5309, 19.5268)</td>\n",
       "    </tr>\n",
       "  </tbody>\n",
       "</table>\n",
       "</div>"
      ],
      "text/plain": [
       "              pos_neg\n",
       "0   (97.5365, 1.2126)\n",
       "1   (73.876, 19.2098)\n",
       "2  (82.4008, 12.4292)\n",
       "3   (93.5354, 4.1845)\n",
       "4      (97.822, 1.21)\n",
       "5   (88.6754, 8.4527)\n",
       "6  (81.8606, 13.0043)\n",
       "7   (85.8398, 8.0078)\n",
       "8  (80.5626, 15.5347)\n",
       "9  (77.5309, 19.5268)"
      ]
     },
     "execution_count": 43,
     "metadata": {},
     "output_type": "execute_result"
    }
   ],
   "source": [
    "ted_clean[['pos_neg']].head(10)"
   ]
  },
  {
   "attachments": {},
   "cell_type": "markdown",
   "metadata": {},
   "source": [
    "* OMG it worked!!!!!!"
   ]
  },
  {
   "cell_type": "code",
   "execution_count": 44,
   "metadata": {},
   "outputs": [
    {
     "name": "stdout",
     "output_type": "stream",
     "text": [
      "87.00269299895524 8.12041368861024\n"
     ]
    }
   ],
   "source": [
    "# calculate the mean percentage of positive review and negative review\n",
    "\n",
    "pos_total = 0\n",
    "neg_total = 0\n",
    "\n",
    "for p, n in ted_clean['pos_neg']:\n",
    "    pos_total += p\n",
    "    neg_total += n\n",
    "\n",
    "mean_pos = pos_total/len(ted_clean['pos_neg'])\n",
    "mean_neg = neg_total/len(ted_clean['pos_neg'])\n",
    "\n",
    "print(mean_pos, mean_neg)"
   ]
  },
  {
   "attachments": {},
   "cell_type": "markdown",
   "metadata": {},
   "source": [
    "* Since the rating of ted talk is the result of multiple choices out of 14 options, it is not possible to classify the talk based on its absolute value of review.\n",
    "* As shown above, the mean percentage of positive review is a whopping 91%.\n",
    "* Therefore, I will classify the reviews based on the percentage of its **negative review only**; if the percentage of negative value of a talk is higher than the mean of negative review, which is 8.12, I will label it as negative, or not popular."
   ]
  },
  {
   "cell_type": "code",
   "execution_count": 45,
   "metadata": {},
   "outputs": [
    {
     "data": {
      "text/html": [
       "<div>\n",
       "<style scoped>\n",
       "    .dataframe tbody tr th:only-of-type {\n",
       "        vertical-align: middle;\n",
       "    }\n",
       "\n",
       "    .dataframe tbody tr th {\n",
       "        vertical-align: top;\n",
       "    }\n",
       "\n",
       "    .dataframe thead th {\n",
       "        text-align: right;\n",
       "    }\n",
       "</style>\n",
       "<table border=\"1\" class=\"dataframe\">\n",
       "  <thead>\n",
       "    <tr style=\"text-align: right;\">\n",
       "      <th></th>\n",
       "      <th>title</th>\n",
       "      <th>comments</th>\n",
       "      <th>transcript</th>\n",
       "      <th>tok_low</th>\n",
       "      <th>kband_ave</th>\n",
       "      <th>ratings_tuple</th>\n",
       "      <th>pos_neg</th>\n",
       "    </tr>\n",
       "  </thead>\n",
       "  <tbody>\n",
       "    <tr>\n",
       "      <th>0</th>\n",
       "      <td>Do schools kill creativity?</td>\n",
       "      <td>4553</td>\n",
       "      <td>Good morning. How are you?(Laughter)It's been ...</td>\n",
       "      <td>[good, morning, ., how, are, you, ?, (, laught...</td>\n",
       "      <td>2.712990</td>\n",
       "      <td>((Funny, 19645), (Beautiful, 4573), (Ingenious...</td>\n",
       "      <td>(97.5365, 1.2126)</td>\n",
       "    </tr>\n",
       "    <tr>\n",
       "      <th>1</th>\n",
       "      <td>Averting the climate crisis</td>\n",
       "      <td>265</td>\n",
       "      <td>Thank you so much, Chris. And it's truly a gre...</td>\n",
       "      <td>[thank, you, so, much, ,, chris, ., and, it, '...</td>\n",
       "      <td>2.777508</td>\n",
       "      <td>((Funny, 544), (Courageous, 139), (Confusing, ...</td>\n",
       "      <td>(73.876, 19.2098)</td>\n",
       "    </tr>\n",
       "    <tr>\n",
       "      <th>2</th>\n",
       "      <td>Simplicity sells</td>\n",
       "      <td>124</td>\n",
       "      <td>(Music: \"The Sound of Silence,\" Simon &amp; Garfun...</td>\n",
       "      <td>[(, music, :, ``, the, sound, of, silence, ,, ...</td>\n",
       "      <td>2.750460</td>\n",
       "      <td>((Funny, 964), (Courageous, 45), (Ingenious, 1...</td>\n",
       "      <td>(82.4008, 12.4292)</td>\n",
       "    </tr>\n",
       "    <tr>\n",
       "      <th>3</th>\n",
       "      <td>Greening the ghetto</td>\n",
       "      <td>200</td>\n",
       "      <td>If you're here today — and I'm very happy that...</td>\n",
       "      <td>[if, you, 're, here, today, —, and, i, 'm, ver...</td>\n",
       "      <td>3.192360</td>\n",
       "      <td>((Courageous, 760), (Beautiful, 291), (Confusi...</td>\n",
       "      <td>(93.5354, 4.1845)</td>\n",
       "    </tr>\n",
       "    <tr>\n",
       "      <th>4</th>\n",
       "      <td>The best stats you've ever seen</td>\n",
       "      <td>593</td>\n",
       "      <td>About 10 years ago, I took on the task to teac...</td>\n",
       "      <td>[about, 10, years, ago, ,, i, took, on, the, t...</td>\n",
       "      <td>2.155352</td>\n",
       "      <td>((Ingenious, 3202), (Funny, 1390), (Beautiful,...</td>\n",
       "      <td>(97.822, 1.21)</td>\n",
       "    </tr>\n",
       "  </tbody>\n",
       "</table>\n",
       "</div>"
      ],
      "text/plain": [
       "                             title  comments  \\\n",
       "0      Do schools kill creativity?      4553   \n",
       "1      Averting the climate crisis       265   \n",
       "2                 Simplicity sells       124   \n",
       "3              Greening the ghetto       200   \n",
       "4  The best stats you've ever seen       593   \n",
       "\n",
       "                                          transcript  \\\n",
       "0  Good morning. How are you?(Laughter)It's been ...   \n",
       "1  Thank you so much, Chris. And it's truly a gre...   \n",
       "2  (Music: \"The Sound of Silence,\" Simon & Garfun...   \n",
       "3  If you're here today — and I'm very happy that...   \n",
       "4  About 10 years ago, I took on the task to teac...   \n",
       "\n",
       "                                             tok_low  kband_ave  \\\n",
       "0  [good, morning, ., how, are, you, ?, (, laught...   2.712990   \n",
       "1  [thank, you, so, much, ,, chris, ., and, it, '...   2.777508   \n",
       "2  [(, music, :, ``, the, sound, of, silence, ,, ...   2.750460   \n",
       "3  [if, you, 're, here, today, —, and, i, 'm, ver...   3.192360   \n",
       "4  [about, 10, years, ago, ,, i, took, on, the, t...   2.155352   \n",
       "\n",
       "                                       ratings_tuple             pos_neg  \n",
       "0  ((Funny, 19645), (Beautiful, 4573), (Ingenious...   (97.5365, 1.2126)  \n",
       "1  ((Funny, 544), (Courageous, 139), (Confusing, ...   (73.876, 19.2098)  \n",
       "2  ((Funny, 964), (Courageous, 45), (Ingenious, 1...  (82.4008, 12.4292)  \n",
       "3  ((Courageous, 760), (Beautiful, 291), (Confusi...   (93.5354, 4.1845)  \n",
       "4  ((Ingenious, 3202), (Funny, 1390), (Beautiful,...      (97.822, 1.21)  "
      ]
     },
     "execution_count": 45,
     "metadata": {},
     "output_type": "execute_result"
    }
   ],
   "source": [
    "# re-sort the columns I need\n",
    "ted_clean = ted_clean[['title', 'comments', 'transcript', 'tok_low', 'kband_ave', 'ratings_tuple', 'pos_neg']]\n",
    "ted_clean.head()"
   ]
  },
  {
   "cell_type": "code",
   "execution_count": 46,
   "metadata": {},
   "outputs": [],
   "source": [
    "# make a list of label\n",
    "label = []\n",
    "for (x, y) in ted_clean.pos_neg:\n",
    "    if y > 8.77:\n",
    "        label.append('neg')\n",
    "    else:\n",
    "        label.append('pos')"
   ]
  },
  {
   "cell_type": "code",
   "execution_count": 47,
   "metadata": {},
   "outputs": [
    {
     "data": {
      "text/html": [
       "<div>\n",
       "<style scoped>\n",
       "    .dataframe tbody tr th:only-of-type {\n",
       "        vertical-align: middle;\n",
       "    }\n",
       "\n",
       "    .dataframe tbody tr th {\n",
       "        vertical-align: top;\n",
       "    }\n",
       "\n",
       "    .dataframe thead th {\n",
       "        text-align: right;\n",
       "    }\n",
       "</style>\n",
       "<table border=\"1\" class=\"dataframe\">\n",
       "  <thead>\n",
       "    <tr style=\"text-align: right;\">\n",
       "      <th></th>\n",
       "      <th>title</th>\n",
       "      <th>comments</th>\n",
       "      <th>transcript</th>\n",
       "      <th>tok_low</th>\n",
       "      <th>kband_ave</th>\n",
       "      <th>ratings_tuple</th>\n",
       "      <th>pos_neg</th>\n",
       "      <th>label</th>\n",
       "    </tr>\n",
       "  </thead>\n",
       "  <tbody>\n",
       "    <tr>\n",
       "      <th>0</th>\n",
       "      <td>Do schools kill creativity?</td>\n",
       "      <td>4553</td>\n",
       "      <td>Good morning. How are you?(Laughter)It's been ...</td>\n",
       "      <td>[good, morning, ., how, are, you, ?, (, laught...</td>\n",
       "      <td>2.712990</td>\n",
       "      <td>((Funny, 19645), (Beautiful, 4573), (Ingenious...</td>\n",
       "      <td>(97.5365, 1.2126)</td>\n",
       "      <td>pos</td>\n",
       "    </tr>\n",
       "    <tr>\n",
       "      <th>1</th>\n",
       "      <td>Averting the climate crisis</td>\n",
       "      <td>265</td>\n",
       "      <td>Thank you so much, Chris. And it's truly a gre...</td>\n",
       "      <td>[thank, you, so, much, ,, chris, ., and, it, '...</td>\n",
       "      <td>2.777508</td>\n",
       "      <td>((Funny, 544), (Courageous, 139), (Confusing, ...</td>\n",
       "      <td>(73.876, 19.2098)</td>\n",
       "      <td>neg</td>\n",
       "    </tr>\n",
       "    <tr>\n",
       "      <th>2</th>\n",
       "      <td>Simplicity sells</td>\n",
       "      <td>124</td>\n",
       "      <td>(Music: \"The Sound of Silence,\" Simon &amp; Garfun...</td>\n",
       "      <td>[(, music, :, ``, the, sound, of, silence, ,, ...</td>\n",
       "      <td>2.750460</td>\n",
       "      <td>((Funny, 964), (Courageous, 45), (Ingenious, 1...</td>\n",
       "      <td>(82.4008, 12.4292)</td>\n",
       "      <td>neg</td>\n",
       "    </tr>\n",
       "  </tbody>\n",
       "</table>\n",
       "</div>"
      ],
      "text/plain": [
       "                         title  comments  \\\n",
       "0  Do schools kill creativity?      4553   \n",
       "1  Averting the climate crisis       265   \n",
       "2             Simplicity sells       124   \n",
       "\n",
       "                                          transcript  \\\n",
       "0  Good morning. How are you?(Laughter)It's been ...   \n",
       "1  Thank you so much, Chris. And it's truly a gre...   \n",
       "2  (Music: \"The Sound of Silence,\" Simon & Garfun...   \n",
       "\n",
       "                                             tok_low  kband_ave  \\\n",
       "0  [good, morning, ., how, are, you, ?, (, laught...   2.712990   \n",
       "1  [thank, you, so, much, ,, chris, ., and, it, '...   2.777508   \n",
       "2  [(, music, :, ``, the, sound, of, silence, ,, ...   2.750460   \n",
       "\n",
       "                                       ratings_tuple             pos_neg label  \n",
       "0  ((Funny, 19645), (Beautiful, 4573), (Ingenious...   (97.5365, 1.2126)   pos  \n",
       "1  ((Funny, 544), (Courageous, 139), (Confusing, ...   (73.876, 19.2098)   neg  \n",
       "2  ((Funny, 964), (Courageous, 45), (Ingenious, 1...  (82.4008, 12.4292)   neg  "
      ]
     },
     "execution_count": 47,
     "metadata": {},
     "output_type": "execute_result"
    }
   ],
   "source": [
    "# add new column of label\n",
    "ted_clean['label'] = label\n",
    "ted_clean.head(3)"
   ]
  },
  {
   "cell_type": "code",
   "execution_count": 48,
   "metadata": {},
   "outputs": [
    {
     "data": {
      "text/plain": [
       "0.6938349007314525"
      ]
     },
     "execution_count": 48,
     "metadata": {},
     "output_type": "execute_result"
    }
   ],
   "source": [
    "# check the base accuracy in advance\n",
    "len(ted_clean[ted_clean.label == 'pos'])/len(ted_clean.label)"
   ]
  },
  {
   "attachments": {},
   "cell_type": "markdown",
   "metadata": {},
   "source": [
    "* the base line is 67%.\n",
    "* Finally ready to move on.."
   ]
  },
  {
   "cell_type": "code",
   "execution_count": 49,
   "metadata": {},
   "outputs": [],
   "source": [
    "# pickle the refined data\n",
    "import pickle\n",
    "fname = open('../data_full/ted_clean.pkl', 'wb')\n",
    "pickle.dump(ted_clean, fname)\n",
    "fname.close()"
   ]
  }
 ],
 "metadata": {
  "kernelspec": {
   "display_name": "base",
   "language": "python",
   "name": "python3"
  },
  "language_info": {
   "codemirror_mode": {
    "name": "ipython",
    "version": 3
   },
   "file_extension": ".py",
   "mimetype": "text/x-python",
   "name": "python",
   "nbconvert_exporter": "python",
   "pygments_lexer": "ipython3",
   "version": "3.9.13"
  },
  "orig_nbformat": 4,
  "vscode": {
   "interpreter": {
    "hash": "202e3ca643da9f0ff4ab839c9cba3ead2c2565b9aaaf633422ccfc5c3c9d9abe"
   }
  }
 },
 "nbformat": 4,
 "nbformat_minor": 2
}
