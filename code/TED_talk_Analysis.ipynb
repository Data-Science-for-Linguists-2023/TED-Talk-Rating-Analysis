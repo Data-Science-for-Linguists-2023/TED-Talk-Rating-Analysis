{
 "cells": [
  {
   "cell_type": "markdown",
   "metadata": {},
   "source": [
    "## Table of contents"
   ]
  },
  {
   "cell_type": "markdown",
   "metadata": {},
   "source": [
    "* [1. Textual Feature](#Textual-feature:-Label-Classification)\n",
    "    * [1-1. Multinomial Naive Bayes, unigram feature](#Multinomial-NB-(Unigram))\n",
    "    * [1-2. SVM, unigram feature](#SVM-(Unigram))\n",
    "    * [1-3. Multinomial Naive Bayes, ngrams feature](#Multinomial-NB-(Ngrams))\n",
    "    * [1-4. SVM, ngrams feature](#SVM-(Ngram))\n",
    "* [2. K-band and `obnoxious`](#K-band-&-obnoxious)\n",
    "* [3. Sentence Length and `longwinded`](#Sentence-length-and-longwinded)"
   ]
  },
  {
   "cell_type": "code",
   "execution_count": 1,
   "metadata": {},
   "outputs": [],
   "source": [
    "# load all the necessary packages\n",
    "import pandas as pd\n",
    "import numpy as np\n",
    "import math\n",
    "import nltk\n",
    "import matplotlib.pylab as plt\n",
    "import sklearn               \n",
    "import seaborn as sns"
   ]
  },
  {
   "cell_type": "code",
   "execution_count": 2,
   "metadata": {},
   "outputs": [],
   "source": [
    "# unpickle the cleaned data\n",
    "import pickle\n",
    "fname = open('../data_full/ted_clean.pkl', 'rb')\n",
    "ted_clean = pickle.load(fname)\n",
    "fname.close()"
   ]
  },
  {
   "cell_type": "code",
   "execution_count": 3,
   "metadata": {},
   "outputs": [
    {
     "name": "stdout",
     "output_type": "stream",
     "text": [
      "<class 'pandas.core.frame.DataFrame'>\n",
      "RangeIndex: 957 entries, 0 to 956\n",
      "Data columns (total 8 columns):\n",
      " #   Column         Non-Null Count  Dtype  \n",
      "---  ------         --------------  -----  \n",
      " 0   title          957 non-null    object \n",
      " 1   comments       957 non-null    int64  \n",
      " 2   transcript     957 non-null    object \n",
      " 3   tok_low        957 non-null    object \n",
      " 4   kband_ave      957 non-null    float64\n",
      " 5   ratings_tuple  957 non-null    object \n",
      " 6   pos_neg        957 non-null    object \n",
      " 7   label          957 non-null    object \n",
      "dtypes: float64(1), int64(1), object(6)\n",
      "memory usage: 59.9+ KB\n"
     ]
    }
   ],
   "source": [
    "# check if I did correctly\n",
    "ted_clean.info()"
   ]
  },
  {
   "cell_type": "markdown",
   "metadata": {},
   "source": [
    "# Textual feature: Label Classification"
   ]
  },
  {
   "cell_type": "markdown",
   "metadata": {},
   "source": [
    "## Multinomial NB (Unigram)"
   ]
  },
  {
   "cell_type": "markdown",
   "metadata": {},
   "source": [
    "* Why multinomial NB?  \n",
    "    - cause it's fast and efficient"
   ]
  },
  {
   "cell_type": "code",
   "execution_count": 4,
   "metadata": {},
   "outputs": [],
   "source": [
    "# load packages needed\n",
    "from sklearn.model_selection import train_test_split\n",
    "from sklearn.feature_extraction.text import TfidfVectorizer\n",
    "from sklearn.naive_bayes import MultinomialNB\n",
    "from sklearn.pipeline import make_pipeline\n",
    "from sklearn.svm import SVC\n",
    "from sklearn.metrics import accuracy_score"
   ]
  },
  {
   "cell_type": "code",
   "execution_count": 5,
   "metadata": {},
   "outputs": [],
   "source": [
    "# split the data into train set and test set\n",
    "trans_train, trans_test, label_train, label_test = train_test_split(ted_clean.transcript, ted_clean.label, \n",
    "                                                                    test_size=0.2, random_state=0)"
   ]
  },
  {
   "cell_type": "code",
   "execution_count": 6,
   "metadata": {},
   "outputs": [
    {
     "data": {
      "text/plain": [
       "0.6979166666666666"
      ]
     },
     "execution_count": 6,
     "metadata": {},
     "output_type": "execute_result"
    }
   ],
   "source": [
    "NBmodel = make_pipeline(TfidfVectorizer(max_features=1500, stop_words='english'),\n",
    "                        MultinomialNB())\n",
    "NBmodel.fit(trans_train, label_train)\n",
    "\n",
    "\n",
    "accuracy_score(label_test, NBmodel.predict(trans_test))"
   ]
  },
  {
   "cell_type": "code",
   "execution_count": 7,
   "metadata": {},
   "outputs": [
    {
     "name": "stdout",
     "output_type": "stream",
     "text": [
      "[[  3  57]\n",
      " [  1 131]]\n"
     ]
    }
   ],
   "source": [
    "# check the performance of the model with confusion matrix\n",
    "label_pred = NBmodel.predict(trans_test)\n",
    "\n",
    "from sklearn.metrics import confusion_matrix\n",
    "mat = confusion_matrix(label_test, label_pred)  # label_test (arg1) = y axis, label_pred (arg2) = x axis\n",
    "print(mat)"
   ]
  },
  {
   "cell_type": "code",
   "execution_count": 8,
   "metadata": {},
   "outputs": [
    {
     "data": {
      "image/png": "[encoded data removed]",
      "text/plain": [
       "<Figure size 640x480 with 2 Axes>"
      ]
     },
     "metadata": {},
     "output_type": "display_data"
    }
   ],
   "source": [
    "# make a heatmap\n",
    "sns.heatmap(mat, square=True, annot=True, fmt='d', cmap=\"Reds\",\n",
    "xticklabels=['neg', 'pos'], yticklabels=['neg', 'pos'])\n",
    "# fmt: either 's' or 'd'; s = string, d = decimal\n",
    "# square: the shape of each cell\n",
    "plt.xlabel('predicted label')\n",
    "plt.ylabel('true label')\n",
    "plt.title(\"Multinomial Naive Bayes, with 1500 unigram features\")\n",
    "plt.show()"
   ]
  },
  {
   "cell_type": "code",
   "execution_count": 9,
   "metadata": {},
   "outputs": [
    {
     "data": {
      "text/plain": [
       "0.703125"
      ]
     },
     "execution_count": 9,
     "metadata": {},
     "output_type": "execute_result"
    }
   ],
   "source": [
    "# change the max_feature to 3000\n",
    "NBmodel = make_pipeline(TfidfVectorizer(max_features=3000, stop_words='english'),\n",
    "                        MultinomialNB())\n",
    "NBmodel.fit(trans_train, label_train)\n",
    "\n",
    "\n",
    "accuracy_score(label_test, NBmodel.predict(trans_test))"
   ]
  },
  {
   "cell_type": "markdown",
   "metadata": {},
   "source": [
    "* Very slight increase.. "
   ]
  },
  {
   "cell_type": "code",
   "execution_count": 10,
   "metadata": {},
   "outputs": [
    {
     "name": "stdout",
     "output_type": "stream",
     "text": [
      "[[  3  57]\n",
      " [  0 132]]\n"
     ]
    }
   ],
   "source": [
    "# make a confusion_matrix to make a heatmap\n",
    "label_pred = NBmodel.predict(trans_test)\n",
    "mat = confusion_matrix(label_test, label_pred)  # label_test (arg1) = y axis, label_pred (arg2) = x axis\n",
    "print(mat)"
   ]
  },
  {
   "cell_type": "code",
   "execution_count": 11,
   "metadata": {},
   "outputs": [
    {
     "data": {
      "image/png": "[encoded data removed]",
      "text/plain": [
       "<Figure size 640x480 with 2 Axes>"
      ]
     },
     "metadata": {},
     "output_type": "display_data"
    }
   ],
   "source": [
    "# make a heatmap\n",
    "sns.heatmap(mat, square=True, annot=True, fmt='d', cmap=\"Reds\",\n",
    "xticklabels=['neg', 'pos'], yticklabels=['neg', 'pos'])\n",
    "\n",
    "plt.xlabel('predicted label')\n",
    "plt.ylabel('true label')\n",
    "plt.title(\"Multinomial Naive Bayes, with 3000 unigram features\")\n",
    "plt.show()"
   ]
  },
  {
   "cell_type": "markdown",
   "metadata": {},
   "source": [
    "* Regardless of the number of feature, the model labeled almost all the transcripts as positive.\n",
    "* What was the key feature for the model to label those true negative transcripts as negative?  \n",
    "Is there a way to figure this out?  \n",
    "* then how about 5000 features?"
   ]
  },
  {
   "cell_type": "code",
   "execution_count": 12,
   "metadata": {},
   "outputs": [
    {
     "data": {
      "text/plain": [
       "0.6927083333333334"
      ]
     },
     "execution_count": 12,
     "metadata": {},
     "output_type": "execute_result"
    }
   ],
   "source": [
    "# change max_feature to 5000 to see if there is any difference\n",
    "NBmodel = make_pipeline(TfidfVectorizer(max_features=5000, stop_words='english'),\n",
    "                        MultinomialNB())\n",
    "NBmodel.fit(trans_train, label_train)\n",
    "\n",
    "\n",
    "accuracy_score(label_test, NBmodel.predict(trans_test))"
   ]
  },
  {
   "cell_type": "markdown",
   "metadata": {},
   "source": [
    "* ohh it decreased even more than that of 1500 features?!"
   ]
  },
  {
   "cell_type": "code",
   "execution_count": 13,
   "metadata": {},
   "outputs": [
    {
     "name": "stdout",
     "output_type": "stream",
     "text": [
      "[[  1  59]\n",
      " [  0 132]]\n"
     ]
    }
   ],
   "source": [
    "# make a confusion_matrix to make a heatmap\n",
    "label_pred = NBmodel.predict(trans_test)\n",
    "mat = confusion_matrix(label_test, label_pred)  # label_test (arg1) = y axis, label_pred (arg2) = x axis\n",
    "print(mat)"
   ]
  },
  {
   "cell_type": "markdown",
   "metadata": {},
   "source": [
    "* Seems like after increasing the max feature to 5000, the model shows overfitting."
   ]
  },
  {
   "cell_type": "markdown",
   "metadata": {},
   "source": [
    "* Here, we can conclude that according to NB model, it is not possible to predict the rate of positive review of the talks solely by the transcripts."
   ]
  },
  {
   "cell_type": "markdown",
   "metadata": {},
   "source": [
    "## SVM (Unigram)"
   ]
  },
  {
   "cell_type": "markdown",
   "metadata": {},
   "source": [
    "* Why SVM?  \n",
    "    - Cause I am trying to predict the categorical variable, and SVM is pretty much for the exact purpose. (Also wanted to adopt a model little more complicated than NB model.)"
   ]
  },
  {
   "cell_type": "code",
   "execution_count": 14,
   "metadata": {},
   "outputs": [],
   "source": [
    "# calcualte tf-idf before applying the raw data into svm\n",
    "vectorz = TfidfVectorizer(max_df=0.5, min_df=2, max_features=1500, stop_words='english')\n",
    "\n",
    "tf_train = vectorz.fit_transform(trans_train)\n",
    "tf_test = vectorz.transform(trans_test)"
   ]
  },
  {
   "cell_type": "code",
   "execution_count": 15,
   "metadata": {},
   "outputs": [
    {
     "data": {
      "text/plain": [
       "SVC(C=100000.0, kernel='linear')"
      ]
     },
     "execution_count": 15,
     "metadata": {},
     "output_type": "execute_result"
    }
   ],
   "source": [
    "# Build svm, with (quite a) hard margin\n",
    "svcmdl = SVC(kernel='linear', C=1E5)\n",
    "svcmdl.fit(tf_train, label_train)"
   ]
  },
  {
   "cell_type": "code",
   "execution_count": 16,
   "metadata": {},
   "outputs": [
    {
     "data": {
      "text/plain": [
       "0.6302083333333334"
      ]
     },
     "execution_count": 16,
     "metadata": {},
     "output_type": "execute_result"
    }
   ],
   "source": [
    "# Check the accuracy\n",
    "accuracy_score(label_test, svcmdl.predict(tf_test))"
   ]
  },
  {
   "cell_type": "code",
   "execution_count": 17,
   "metadata": {},
   "outputs": [
    {
     "name": "stdout",
     "output_type": "stream",
     "text": [
      "[[26 34]\n",
      " [37 95]]\n"
     ]
    }
   ],
   "source": [
    "# make a confusion_matrix to make a heatmap\n",
    "label_pred = svcmdl.predict(tf_test)\n",
    "mat = confusion_matrix(label_test, label_pred)  # label_test (arg1) = y axis, label_pred (arg2) = x axis\n",
    "print(mat)"
   ]
  },
  {
   "cell_type": "markdown",
   "metadata": {},
   "source": [
    "* Interesting! Even though the accuracy is low, SVM model correctly labels the true negative reviews."
   ]
  },
  {
   "cell_type": "code",
   "execution_count": 18,
   "metadata": {},
   "outputs": [
    {
     "data": {
      "image/png": "[encoded data removed]",
      "text/plain": [
       "<Figure size 640x480 with 2 Axes>"
      ]
     },
     "metadata": {},
     "output_type": "display_data"
    }
   ],
   "source": [
    "# make a heatmap\n",
    "sns.heatmap(mat, square=True, annot=True, fmt='d', cmap=\"Greens\",\n",
    "xticklabels=['neg', 'pos'], yticklabels=['neg', 'pos'])\n",
    "\n",
    "plt.xlabel('predicted label')\n",
    "plt.ylabel('true label')\n",
    "plt.title(\"SVM, with 1500 unigram features, C=1E5\")\n",
    "plt.show()"
   ]
  },
  {
   "cell_type": "code",
   "execution_count": 19,
   "metadata": {},
   "outputs": [
    {
     "data": {
      "text/plain": [
       "0.6302083333333334"
      ]
     },
     "execution_count": 19,
     "metadata": {},
     "output_type": "execute_result"
    }
   ],
   "source": [
    "# # Build another SVM, with softer margin and check the performance\n",
    "svcmdl_soft = SVC(kernel='linear', C=1E2)\n",
    "svcmdl_soft.fit(tf_train, label_train)\n",
    "accuracy_score(label_test, svcmdl_soft.predict(tf_test))"
   ]
  },
  {
   "cell_type": "markdown",
   "metadata": {},
   "source": [
    "* Exactly the same performance with hard margin (C=1E5)\n",
    "* Let's try with softer margin"
   ]
  },
  {
   "cell_type": "code",
   "execution_count": 20,
   "metadata": {},
   "outputs": [
    {
     "data": {
      "text/plain": [
       "0.703125"
      ]
     },
     "execution_count": 20,
     "metadata": {},
     "output_type": "execute_result"
    }
   ],
   "source": [
    "# Build another SVM, with EVEN softer margin and check the performance\n",
    "svcmdl_softer = SVC(kernel='linear', C=1)\n",
    "svcmdl_softer.fit(tf_train, label_train)\n",
    "accuracy_score(label_test, svcmdl_softer.predict(tf_test))"
   ]
  },
  {
   "cell_type": "markdown",
   "metadata": {},
   "source": [
    "* the softer the margin, the higher the accuracy\n",
    "* Let's check how each model did on the true negative transcripts"
   ]
  },
  {
   "cell_type": "code",
   "execution_count": 21,
   "metadata": {},
   "outputs": [
    {
     "data": {
      "image/png": "[encoded data removed]",
      "text/plain": [
       "<Figure size 640x480 with 2 Axes>"
      ]
     },
     "metadata": {},
     "output_type": "display_data"
    }
   ],
   "source": [
    "# a heatmap with soft-margin SVM\n",
    "label_pred = svcmdl_soft.predict(tf_test)\n",
    "mat = confusion_matrix(label_test, label_pred) \n",
    "\n",
    "sns.heatmap(mat, square=True, annot=True, fmt='d', cmap=\"Greens\",\n",
    "xticklabels=['neg', 'pos'], yticklabels=['neg', 'pos'])\n",
    "\n",
    "plt.xlabel('predicted label')\n",
    "plt.ylabel('true label')\n",
    "plt.title(\"SVM, with 1500 unigram features, C=1E2\")\n",
    "plt.show()"
   ]
  },
  {
   "cell_type": "code",
   "execution_count": 22,
   "metadata": {},
   "outputs": [
    {
     "data": {
      "image/png": "[encoded data removed]",
      "text/plain": [
       "<Figure size 640x480 with 2 Axes>"
      ]
     },
     "metadata": {},
     "output_type": "display_data"
    }
   ],
   "source": [
    "# a heatmap with EVEN soft-margin SVM\n",
    "label_pred = svcmdl_softer.predict(tf_test)\n",
    "mat = confusion_matrix(label_test, label_pred) \n",
    "\n",
    "sns.heatmap(mat, square=True, annot=True, fmt='d', cmap=\"Greens\",\n",
    "xticklabels=['neg', 'pos'], yticklabels=['neg', 'pos'])\n",
    "\n",
    "plt.xlabel('predicted label')\n",
    "plt.ylabel('true label')\n",
    "plt.title(\"SVM, with 1500 unigram features, C=1\")\n",
    "plt.show()"
   ]
  },
  {
   "cell_type": "markdown",
   "metadata": {},
   "source": [
    "* As the margin becomes softer, the percentage that SVM labels transcript as positive rises. I compared the right columns of each heatmap."
   ]
  },
  {
   "cell_type": "markdown",
   "metadata": {},
   "source": [
    "* Should I try clustering? What features played an important role? What should I do more to get to know the internal work of this?"
   ]
  },
  {
   "cell_type": "markdown",
   "metadata": {},
   "source": [
    "### Let's try other linguistic features"
   ]
  },
  {
   "cell_type": "markdown",
   "metadata": {},
   "source": [
    "## Multinomial NB (Ngrams)"
   ]
  },
  {
   "cell_type": "code",
   "execution_count": 23,
   "metadata": {},
   "outputs": [],
   "source": [
    "# split the data into train set and test set\n",
    "trans_train, trans_test, label_train, label_test = train_test_split(ted_clean.transcript, ted_clean.label, \n",
    "                                                                    test_size=0.2, random_state=10)"
   ]
  },
  {
   "cell_type": "code",
   "execution_count": 24,
   "metadata": {},
   "outputs": [
    {
     "data": {
      "text/plain": [
       "0.65625"
      ]
     },
     "execution_count": 24,
     "metadata": {},
     "output_type": "execute_result"
    }
   ],
   "source": [
    "# Make NB model with bigram feature\n",
    "NBmodel = make_pipeline(TfidfVectorizer(max_features=20000, ngram_range=(1, 2)),\n",
    "                        MultinomialNB())\n",
    "NBmodel.fit(trans_train, label_train)\n",
    "\n",
    "\n",
    "accuracy_score(label_test, NBmodel.predict(trans_test))"
   ]
  },
  {
   "cell_type": "code",
   "execution_count": 25,
   "metadata": {},
   "outputs": [
    {
     "data": {
      "image/png": "[encoded data removed]",
      "text/plain": [
       "<Figure size 640x480 with 2 Axes>"
      ]
     },
     "metadata": {},
     "output_type": "display_data"
    }
   ],
   "source": [
    "# a heatmap with bigram NB model\n",
    "label_pred = NBmodel.predict(trans_test)\n",
    "mat = confusion_matrix(label_test, label_pred) \n",
    "\n",
    "sns.heatmap(mat, square=True, annot=True, fmt='d', cmap=\"Reds\",\n",
    "xticklabels=['neg', 'pos'], yticklabels=['neg', 'pos'])\n",
    "\n",
    "plt.xlabel('predicted label')\n",
    "plt.ylabel('true label')\n",
    "plt.title(\"Multinomial Naive Bayes, with 20000 uni/bigram features\")\n",
    "plt.show()"
   ]
  },
  {
   "cell_type": "markdown",
   "metadata": {},
   "source": [
    "* Bigram model labeled them all as positive - less sophisticated than unigram model."
   ]
  },
  {
   "cell_type": "markdown",
   "metadata": {},
   "source": [
    "## SVM (Ngrams)"
   ]
  },
  {
   "cell_type": "markdown",
   "metadata": {},
   "source": [
    "* I will try bigram and trigram features for SVM model."
   ]
  },
  {
   "cell_type": "code",
   "execution_count": 26,
   "metadata": {},
   "outputs": [
    {
     "data": {
      "text/plain": [
       "Pipeline(steps=[('tfidfvectorizer',\n",
       "                 TfidfVectorizer(max_features=15000, ngram_range=(2, 3))),\n",
       "                ('svc', SVC(C=1, kernel='linear', random_state=0))])"
      ]
     },
     "execution_count": 26,
     "metadata": {},
     "output_type": "execute_result"
    }
   ],
   "source": [
    "# make svm with ngram feature and train it\n",
    "ngram_svm = make_pipeline(TfidfVectorizer(max_features=15000, ngram_range=(2,3)), \n",
    "                         SVC(kernel='linear', C=1, random_state=0))\n",
    "\n",
    "ngram_svm.fit(trans_train, label_train)"
   ]
  },
  {
   "cell_type": "code",
   "execution_count": 27,
   "metadata": {},
   "outputs": [
    {
     "data": {
      "text/plain": [
       "0.6979166666666666"
      ]
     },
     "execution_count": 27,
     "metadata": {},
     "output_type": "execute_result"
    }
   ],
   "source": [
    "# Check the accuracy\n",
    "accuracy_score(label_test, ngram_svm.predict(trans_test))"
   ]
  },
  {
   "cell_type": "code",
   "execution_count": 28,
   "metadata": {},
   "outputs": [
    {
     "name": "stdout",
     "output_type": "stream",
     "text": [
      "[[ 13  53]\n",
      " [  5 121]]\n"
     ]
    }
   ],
   "source": [
    "# make a confusion_matrix to make a heatmap\n",
    "label_pred = ngram_svm.predict(trans_test)\n",
    "mat = confusion_matrix(label_test, label_pred)  # label_test (arg1) = y axis, label_pred (arg2) = x axis\n",
    "print(mat)"
   ]
  },
  {
   "cell_type": "code",
   "execution_count": 29,
   "metadata": {},
   "outputs": [
    {
     "data": {
      "image/png": "[encoded data removed]",
      "text/plain": [
       "<Figure size 640x480 with 2 Axes>"
      ]
     },
     "metadata": {},
     "output_type": "display_data"
    }
   ],
   "source": [
    "# make a heatmap\n",
    "sns.heatmap(mat, square=True, annot=True, cmap=\"Greens\", fmt='d',\n",
    "xticklabels=['neg', 'pos'], yticklabels=['neg', 'pos'])\n",
    "\n",
    "plt.xlabel('predicted label')\n",
    "plt.ylabel('true label')\n",
    "plt.title(\"Multinomial Naive Bayes, with 15000 bi/trigram features, C=1\")\n",
    "plt.show()"
   ]
  },
  {
   "cell_type": "markdown",
   "metadata": {},
   "source": [
    "* Model built based on bigram feature does slightly better than unigram model, but we can conclude that there is no significant difference in performance because it still is below the base line (67%)."
   ]
  },
  {
   "cell_type": "markdown",
   "metadata": {},
   "source": [
    "# K band & `obnoxious`"
   ]
  },
  {
   "cell_type": "markdown",
   "metadata": {},
   "source": [
    "## Feature Enginieering Part"
   ]
  },
  {
   "cell_type": "markdown",
   "metadata": {},
   "source": [
    "* Sub-hypothesis to check: the higher the k-band is, the higher the percentage of the rating `obnoxious`"
   ]
  },
  {
   "cell_type": "code",
   "execution_count": 30,
   "metadata": {},
   "outputs": [],
   "source": [
    "# make a toy data set \n",
    "toy_df = ted_clean.head(10)"
   ]
  },
  {
   "cell_type": "code",
   "execution_count": 31,
   "metadata": {},
   "outputs": [],
   "source": [
    "# build a function to calculate the percentage of the rating `obnoxious`\n",
    "def obs_cal(data):\n",
    "    total = sum([int(j) for (i, j) in data])\n",
    "    obs_score = sum([int(j) for (i, j) in data if i == 'Obnoxious'])\n",
    "    return (obs_score)*100/total"
   ]
  },
  {
   "cell_type": "code",
   "execution_count": 32,
   "metadata": {},
   "outputs": [
    {
     "data": {
      "text/plain": [
       "0    0.222696\n",
       "1    4.461853\n",
       "2    5.028329\n",
       "3    0.938841\n",
       "4    0.238095\n",
       "5    2.181558\n",
       "6    4.834945\n",
       "7    0.488281\n",
       "8    2.103396\n",
       "9    4.455386\n",
       "Name: ratings_tuple, dtype: float64"
      ]
     },
     "execution_count": 32,
     "metadata": {},
     "output_type": "execute_result"
    }
   ],
   "source": [
    "# check if it works\n",
    "toy_df.ratings_tuple.map(obs_cal)"
   ]
  },
  {
   "cell_type": "code",
   "execution_count": 33,
   "metadata": {},
   "outputs": [],
   "source": [
    "# make another column of the percentage of rating `obnoxious`\n",
    "ted_clean['obs_perc'] = ted_clean.ratings_tuple.map(obs_cal)"
   ]
  },
  {
   "cell_type": "code",
   "execution_count": 34,
   "metadata": {},
   "outputs": [
    {
     "data": {
      "text/plain": [
       "count    957.000000\n",
       "mean       1.523199\n",
       "std        2.328065\n",
       "min        0.000000\n",
       "25%        0.367366\n",
       "50%        0.844206\n",
       "75%        1.746324\n",
       "max       36.014819\n",
       "Name: obs_perc, dtype: float64"
      ]
     },
     "execution_count": 34,
     "metadata": {},
     "output_type": "execute_result"
    }
   ],
   "source": [
    "# look at the data form\n",
    "ted_clean.obs_perc.describe()"
   ]
  },
  {
   "cell_type": "code",
   "execution_count": 35,
   "metadata": {},
   "outputs": [],
   "source": [
    "# Change the set_option of pandas to see the whole transcript\n",
    "pd.set_option('display.max_colwidth', 2000)"
   ]
  },
  {
   "cell_type": "code",
   "execution_count": 36,
   "metadata": {},
   "outputs": [
    {
     "data": {
      "text/html": [
       "<div>\n",
       "<style scoped>\n",
       "    .dataframe tbody tr th:only-of-type {\n",
       "        vertical-align: middle;\n",
       "    }\n",
       "\n",
       "    .dataframe tbody tr th {\n",
       "        vertical-align: top;\n",
       "    }\n",
       "\n",
       "    .dataframe thead th {\n",
       "        text-align: right;\n",
       "    }\n",
       "</style>\n",
       "<table border=\"1\" class=\"dataframe\">\n",
       "  <thead>\n",
       "    <tr style=\"text-align: right;\">\n",
       "      <th></th>\n",
       "      <th>transcript</th>\n",
       "    </tr>\n",
       "  </thead>\n",
       "  <tbody>\n",
       "    <tr>\n",
       "      <th>361</th>\n",
       "      <td>I'll start with my favorite muse, Emily Dickinson, who said that wonder is not knowledge, neither is it ignorance. It's something which is suspended between what we believe we can be, and a tradition we may have forgotten. And I think, when I listen to these incredible people here, I've been so inspired — so many incredible ideas, so many visions. And yet, when I look at the environment outside, you see how resistant architecture is to change. You see how resistant it is to those very ideas. We can think them out. We can create incredible things. And yet, at the end, it's so hard to change a wall. We applaud the well-mannered box. But to create a space that never existed is what interests me; to create something that has never been, a space that we have never entered except in our minds and our spirits. And I think that's really what architecture is based on.Architecture is not based on concrete and steel and the elements of the soil. It's based on wonder. And that wonder is really what has created the greatest cities, the greatest spaces that we have had. And I think that is indeed what architecture is. It is a story. By the way, it is a story that is told through its hard materials. But it is a story of effort and struggle against improbabilities. If you think of the great buildings, of the cathedrals, of the temples, of the pyramids, of pagodas, of cities in India and beyond, you think of how incredible this is that that was realized not by some abstract idea, but by people.So, anything that has been made can be unmade. Anything that has been made can be made better. There it is: the things that I really believe are of important architecture. These are the dimensions that I like to work with. It's something very personal. It's not, perhaps, the dimensions appreciated by art critics or architecture critics or city planners. But I think these are the necessary oxygen for us to live in buildings, to live in cities, to connect ourselves in a social space.And I th...</td>\n",
       "    </tr>\n",
       "  </tbody>\n",
       "</table>\n",
       "</div>"
      ],
      "text/plain": [
       "                                                                                                                                                                                                                                                                                                                                                                                                                                                                                                                                                                                                                                                                                                                                                                                                                                                                                                                                                                                                                                                                                                                                                                                                                                                                                                                                                                                                                                                                                                                                                                                                                                                                                                                                                                                                                                                                                                                                                                                                                                                                          transcript\n",
       "361  I'll start with my favorite muse, Emily Dickinson, who said that wonder is not knowledge, neither is it ignorance. It's something which is suspended between what we believe we can be, and a tradition we may have forgotten. And I think, when I listen to these incredible people here, I've been so inspired — so many incredible ideas, so many visions. And yet, when I look at the environment outside, you see how resistant architecture is to change. You see how resistant it is to those very ideas. We can think them out. We can create incredible things. And yet, at the end, it's so hard to change a wall. We applaud the well-mannered box. But to create a space that never existed is what interests me; to create something that has never been, a space that we have never entered except in our minds and our spirits. And I think that's really what architecture is based on.Architecture is not based on concrete and steel and the elements of the soil. It's based on wonder. And that wonder is really what has created the greatest cities, the greatest spaces that we have had. And I think that is indeed what architecture is. It is a story. By the way, it is a story that is told through its hard materials. But it is a story of effort and struggle against improbabilities. If you think of the great buildings, of the cathedrals, of the temples, of the pyramids, of pagodas, of cities in India and beyond, you think of how incredible this is that that was realized not by some abstract idea, but by people.So, anything that has been made can be unmade. Anything that has been made can be made better. There it is: the things that I really believe are of important architecture. These are the dimensions that I like to work with. It's something very personal. It's not, perhaps, the dimensions appreciated by art critics or architecture critics or city planners. But I think these are the necessary oxygen for us to live in buildings, to live in cities, to connect ourselves in a social space.And I th..."
      ]
     },
     "execution_count": 36,
     "metadata": {},
     "output_type": "execute_result"
    }
   ],
   "source": [
    "# Check the transcript with the highest obnoxious percentage\n",
    "pd.DataFrame(ted_clean[ted_clean.obs_perc == max(ted_clean.obs_perc)]['transcript'])"
   ]
  },
  {
   "cell_type": "markdown",
   "metadata": {},
   "source": [
    "## Regression"
   ]
  },
  {
   "cell_type": "code",
   "execution_count": 37,
   "metadata": {},
   "outputs": [],
   "source": [
    "# split the data set into train and test set\n",
    "kband_train, kband_test, obs_train, obs_test = train_test_split(ted_clean[['kband_ave']], ted_clean.obs_perc,\n",
    "                                                                test_size = 1/5, random_state=0)"
   ]
  },
  {
   "cell_type": "code",
   "execution_count": 38,
   "metadata": {},
   "outputs": [
    {
     "data": {
      "text/plain": [
       "LinearRegression()"
      ]
     },
     "execution_count": 38,
     "metadata": {},
     "output_type": "execute_result"
    }
   ],
   "source": [
    "# import linear regression and run the model\n",
    "from sklearn.linear_model import LinearRegression\n",
    "\n",
    "obs_regressor = LinearRegression()\n",
    "obs_regressor.fit(kband_train, obs_train)"
   ]
  },
  {
   "cell_type": "code",
   "execution_count": 39,
   "metadata": {},
   "outputs": [],
   "source": [
    "obs_pred = obs_regressor.predict(kband_test)"
   ]
  },
  {
   "cell_type": "code",
   "execution_count": 40,
   "metadata": {},
   "outputs": [
    {
     "data": {
      "text/plain": [
       "<matplotlib.legend.Legend at 0x1a6e3f5c760>"
      ]
     },
     "execution_count": 40,
     "metadata": {},
     "output_type": "execute_result"
    },
    {
     "data": {
      "image/png": "[encoded data removed]",
      "text/plain": [
       "<Figure size 600x400 with 1 Axes>"
      ]
     },
     "metadata": {},
     "output_type": "display_data"
    }
   ],
   "source": [
    "fig = plt.figure(figsize=(6,4))\n",
    "fig.set_facecolor('white')\n",
    "ax = fig.add_subplot()\n",
    "\n",
    "ax.scatter(kband_test, obs_test, color = 'green', marker = 'o', label = \"test\")\n",
    "ax.scatter(kband_test, obs_pred, color = 'orange', marker = 'o', label = \"predict\")\n",
    "ax.set_xlabel(\"Mean K-band\")\n",
    "ax.set_ylabel(\"Obnoxious\")\n",
    "\n",
    "ax.legend()"
   ]
  },
  {
   "cell_type": "code",
   "execution_count": 41,
   "metadata": {},
   "outputs": [
    {
     "data": {
      "text/plain": [
       "array([0.1122869])"
      ]
     },
     "execution_count": 41,
     "metadata": {},
     "output_type": "execute_result"
    }
   ],
   "source": [
    "# calculate the coefficient; the strength of the correlation\n",
    "obs_regressor.coef_"
   ]
  },
  {
   "cell_type": "markdown",
   "metadata": {},
   "source": [
    "* Low correlation between k-band and the rating `obnoxious`"
   ]
  },
  {
   "cell_type": "code",
   "execution_count": 42,
   "metadata": {},
   "outputs": [
    {
     "data": {
      "text/plain": [
       "1.241665956367778"
      ]
     },
     "execution_count": 42,
     "metadata": {},
     "output_type": "execute_result"
    }
   ],
   "source": [
    "from sklearn.metrics import mean_absolute_error\n",
    "mean_absolute_error(obs_test, obs_pred)"
   ]
  },
  {
   "cell_type": "markdown",
   "metadata": {},
   "source": [
    "* On average, this regression model is off by 1.24 point."
   ]
  },
  {
   "cell_type": "markdown",
   "metadata": {},
   "source": [
    "# Sentence length and `longwinded`"
   ]
  },
  {
   "cell_type": "markdown",
   "metadata": {},
   "source": [
    "* ANOTHER sub-hypothesis: what about the sentence length and the rating `longwinded`?"
   ]
  },
  {
   "cell_type": "markdown",
   "metadata": {},
   "source": [
    "## Feature Enginieering Part"
   ]
  },
  {
   "cell_type": "code",
   "execution_count": 43,
   "metadata": {},
   "outputs": [],
   "source": [
    "# make another column for the ratio of `long-winded`\n",
    "def long_cal(data):\n",
    "    total = sum([int(j) for (i, j) in data])\n",
    "    long_score = sum([int(j) for (i, j) in data if i == 'Longwinded'])\n",
    "    return (long_score)*100/total"
   ]
  },
  {
   "cell_type": "code",
   "execution_count": 44,
   "metadata": {},
   "outputs": [],
   "source": [
    "# insert the list into the data frame and check\n",
    "ted_clean['long_perc'] = ted_clean.ratings_tuple.map(long_cal)"
   ]
  },
  {
   "cell_type": "code",
   "execution_count": 45,
   "metadata": {},
   "outputs": [
    {
     "data": {
      "text/html": [
       "<div>\n",
       "<style scoped>\n",
       "    .dataframe tbody tr th:only-of-type {\n",
       "        vertical-align: middle;\n",
       "    }\n",
       "\n",
       "    .dataframe tbody tr th {\n",
       "        vertical-align: top;\n",
       "    }\n",
       "\n",
       "    .dataframe thead th {\n",
       "        text-align: right;\n",
       "    }\n",
       "</style>\n",
       "<table border=\"1\" class=\"dataframe\">\n",
       "  <thead>\n",
       "    <tr style=\"text-align: right;\">\n",
       "      <th></th>\n",
       "      <th>title</th>\n",
       "      <th>comments</th>\n",
       "      <th>transcript</th>\n",
       "      <th>tok_low</th>\n",
       "      <th>kband_ave</th>\n",
       "      <th>ratings_tuple</th>\n",
       "      <th>pos_neg</th>\n",
       "      <th>label</th>\n",
       "      <th>obs_perc</th>\n",
       "      <th>long_perc</th>\n",
       "    </tr>\n",
       "  </thead>\n",
       "  <tbody>\n",
       "    <tr>\n",
       "      <th>0</th>\n",
       "      <td>Do schools kill creativity?</td>\n",
       "      <td>4553</td>\n",
       "      <td>Good morning. How are you?(Laughter)It's been ...</td>\n",
       "      <td>[good, morning, ., how, are, you, ?, (, laught...</td>\n",
       "      <td>2.712990</td>\n",
       "      <td>((Funny, 19645), (Beautiful, 4573), (Ingenious...</td>\n",
       "      <td>(97.5365, 1.2126)</td>\n",
       "      <td>pos</td>\n",
       "      <td>0.222696</td>\n",
       "      <td>0.412360</td>\n",
       "    </tr>\n",
       "    <tr>\n",
       "      <th>1</th>\n",
       "      <td>Averting the climate crisis</td>\n",
       "      <td>265</td>\n",
       "      <td>Thank you so much, Chris. And it's truly a gre...</td>\n",
       "      <td>[thank, you, so, much, ,, chris, ., and, it, '...</td>\n",
       "      <td>2.777508</td>\n",
       "      <td>((Funny, 544), (Courageous, 139), (Confusing, ...</td>\n",
       "      <td>(73.876, 19.2098)</td>\n",
       "      <td>neg</td>\n",
       "      <td>4.461853</td>\n",
       "      <td>3.848774</td>\n",
       "    </tr>\n",
       "    <tr>\n",
       "      <th>2</th>\n",
       "      <td>Simplicity sells</td>\n",
       "      <td>124</td>\n",
       "      <td>(Music: \"The Sound of Silence,\" Simon &amp; Garfun...</td>\n",
       "      <td>[(, music, :, ``, the, sound, of, silence, ,, ...</td>\n",
       "      <td>2.750460</td>\n",
       "      <td>((Funny, 964), (Courageous, 45), (Ingenious, 1...</td>\n",
       "      <td>(82.4008, 12.4292)</td>\n",
       "      <td>neg</td>\n",
       "      <td>5.028329</td>\n",
       "      <td>2.762040</td>\n",
       "    </tr>\n",
       "    <tr>\n",
       "      <th>3</th>\n",
       "      <td>Greening the ghetto</td>\n",
       "      <td>200</td>\n",
       "      <td>If you're here today — and I'm very happy that...</td>\n",
       "      <td>[if, you, 're, here, today, —, and, i, 'm, ver...</td>\n",
       "      <td>3.192360</td>\n",
       "      <td>((Courageous, 760), (Beautiful, 291), (Confusi...</td>\n",
       "      <td>(93.5354, 4.1845)</td>\n",
       "      <td>pos</td>\n",
       "      <td>0.938841</td>\n",
       "      <td>1.421674</td>\n",
       "    </tr>\n",
       "  </tbody>\n",
       "</table>\n",
       "</div>"
      ],
      "text/plain": [
       "                         title  comments  \\\n",
       "0  Do schools kill creativity?      4553   \n",
       "1  Averting the climate crisis       265   \n",
       "2             Simplicity sells       124   \n",
       "3          Greening the ghetto       200   \n",
       "\n",
       "                                          transcript  \\\n",
       "0  Good morning. How are you?(Laughter)It's been ...   \n",
       "1  Thank you so much, Chris. And it's truly a gre...   \n",
       "2  (Music: \"The Sound of Silence,\" Simon & Garfun...   \n",
       "3  If you're here today — and I'm very happy that...   \n",
       "\n",
       "                                             tok_low  kband_ave  \\\n",
       "0  [good, morning, ., how, are, you, ?, (, laught...   2.712990   \n",
       "1  [thank, you, so, much, ,, chris, ., and, it, '...   2.777508   \n",
       "2  [(, music, :, ``, the, sound, of, silence, ,, ...   2.750460   \n",
       "3  [if, you, 're, here, today, —, and, i, 'm, ver...   3.192360   \n",
       "\n",
       "                                       ratings_tuple             pos_neg  \\\n",
       "0  ((Funny, 19645), (Beautiful, 4573), (Ingenious...   (97.5365, 1.2126)   \n",
       "1  ((Funny, 544), (Courageous, 139), (Confusing, ...   (73.876, 19.2098)   \n",
       "2  ((Funny, 964), (Courageous, 45), (Ingenious, 1...  (82.4008, 12.4292)   \n",
       "3  ((Courageous, 760), (Beautiful, 291), (Confusi...   (93.5354, 4.1845)   \n",
       "\n",
       "  label  obs_perc  long_perc  \n",
       "0   pos  0.222696   0.412360  \n",
       "1   neg  4.461853   3.848774  \n",
       "2   neg  5.028329   2.762040  \n",
       "3   pos  0.938841   1.421674  "
      ]
     },
     "execution_count": 45,
     "metadata": {},
     "output_type": "execute_result"
    }
   ],
   "source": [
    "pd.set_option('display.max_colwidth', 50)\n",
    "ted_clean.head(4)"
   ]
  },
  {
   "cell_type": "code",
   "execution_count": 46,
   "metadata": {},
   "outputs": [
    {
     "data": {
      "text/plain": [
       "count    957.000000\n",
       "mean       2.101035\n",
       "std        2.823537\n",
       "min        0.000000\n",
       "25%        0.513978\n",
       "50%        1.152580\n",
       "75%        2.548853\n",
       "max       25.324675\n",
       "Name: long_perc, dtype: float64"
      ]
     },
     "execution_count": 46,
     "metadata": {},
     "output_type": "execute_result"
    }
   ],
   "source": [
    "# check how the column looks like\n",
    "ted_clean.long_perc.describe()"
   ]
  },
  {
   "cell_type": "code",
   "execution_count": 47,
   "metadata": {},
   "outputs": [],
   "source": [
    "# sentence tokenize first\n",
    "ted_clean['sent_tok'] = ted_clean['transcript'].map(nltk.sent_tokenize)"
   ]
  },
  {
   "cell_type": "code",
   "execution_count": 48,
   "metadata": {},
   "outputs": [],
   "source": [
    "# calculate the sentence length of each talk\n",
    "ted_clean['sent_len'] = ted_clean['sent_tok'].map(lambda x:sum([len(i) for i in x])/len(x))"
   ]
  },
  {
   "cell_type": "code",
   "execution_count": 49,
   "metadata": {},
   "outputs": [
    {
     "data": {
      "text/plain": [
       "count     957.000000\n",
       "mean      104.566328\n",
       "std        53.341368\n",
       "min        25.800000\n",
       "25%        83.640000\n",
       "50%        99.212291\n",
       "75%       116.827586\n",
       "max      1143.000000\n",
       "Name: sent_len, dtype: float64"
      ]
     },
     "execution_count": 49,
     "metadata": {},
     "output_type": "execute_result"
    }
   ],
   "source": [
    "# look at the data - how it looks like\n",
    "ted_clean['sent_len'].describe()"
   ]
  },
  {
   "cell_type": "code",
   "execution_count": 50,
   "metadata": {},
   "outputs": [
    {
     "data": {
      "text/html": [
       "<div>\n",
       "<style scoped>\n",
       "    .dataframe tbody tr th:only-of-type {\n",
       "        vertical-align: middle;\n",
       "    }\n",
       "\n",
       "    .dataframe tbody tr th {\n",
       "        vertical-align: top;\n",
       "    }\n",
       "\n",
       "    .dataframe thead th {\n",
       "        text-align: right;\n",
       "    }\n",
       "</style>\n",
       "<table border=\"1\" class=\"dataframe\">\n",
       "  <thead>\n",
       "    <tr style=\"text-align: right;\">\n",
       "      <th></th>\n",
       "      <th>transcript</th>\n",
       "    </tr>\n",
       "  </thead>\n",
       "  <tbody>\n",
       "    <tr>\n",
       "      <th>318</th>\n",
       "      <td>When I was five years old I fell in love with airplanes. Now I'm talking about the '30s. In the '30s an airplane had two wings and a round motor, and was always flown by a guy who looked like Cary Grant. He had high leather boots, jodhpurs, an old leather jacket, a wonderful helmet and those marvelous goggles — and, inevitably, a white scarf, to flow in the wind. He'd always walk up to his airplane in a kind of saunter, devil-may-care saunter, flick the cigarette away, grab the girl waiting here, give her a kiss. (Laughter) And then mount his airplane, maybe for the last time. Of course I always wondered what would happen if he'd kissed the airplane first. (Laughter)But this was real romance to me. Everything about flying in those years, which was — you have to stop and think for a moment — was probably the most advanced technological thing going on at the time. So as a youngster, I tried to get close to this by drawing airplanes, constantly drawing airplanes. It's the way I got a ...</td>\n",
       "    </tr>\n",
       "  </tbody>\n",
       "</table>\n",
       "</div>"
      ],
      "text/plain": [
       "                                                                                                                                                                                                                                                                                                                                                                                                                                                                                                                                                                                                                                                                                                                                                                                                                                                                                                                                                                                                                                  transcript\n",
       "318  When I was five years old I fell in love with airplanes. Now I'm talking about the '30s. In the '30s an airplane had two wings and a round motor, and was always flown by a guy who looked like Cary Grant. He had high leather boots, jodhpurs, an old leather jacket, a wonderful helmet and those marvelous goggles — and, inevitably, a white scarf, to flow in the wind. He'd always walk up to his airplane in a kind of saunter, devil-may-care saunter, flick the cigarette away, grab the girl waiting here, give her a kiss. (Laughter) And then mount his airplane, maybe for the last time. Of course I always wondered what would happen if he'd kissed the airplane first. (Laughter)But this was real romance to me. Everything about flying in those years, which was — you have to stop and think for a moment — was probably the most advanced technological thing going on at the time. So as a youngster, I tried to get close to this by drawing airplanes, constantly drawing airplanes. It's the way I got a ..."
      ]
     },
     "execution_count": 50,
     "metadata": {},
     "output_type": "execute_result"
    }
   ],
   "source": [
    "# Short excerpt of the talk with the highest longwinded percentage\n",
    "pd.set_option('display.max_colwidth', 1000)\n",
    "pd.DataFrame(ted_clean[ted_clean.long_perc == max(ted_clean.long_perc)].transcript)"
   ]
  },
  {
   "cell_type": "markdown",
   "metadata": {},
   "source": [
    "## Regression"
   ]
  },
  {
   "cell_type": "code",
   "execution_count": 51,
   "metadata": {},
   "outputs": [],
   "source": [
    "# split the data set into train and test data\n",
    "sent_train, sent_test, long_train, long_test = train_test_split(ted_clean[['sent_len']], ted_clean.long_perc,\n",
    "                                                                test_size=0.2, random_state=2)"
   ]
  },
  {
   "cell_type": "code",
   "execution_count": 52,
   "metadata": {},
   "outputs": [
    {
     "data": {
      "text/plain": [
       "LinearRegression()"
      ]
     },
     "execution_count": 52,
     "metadata": {},
     "output_type": "execute_result"
    }
   ],
   "source": [
    "# run the linear regression\n",
    "long_regressor = LinearRegression()\n",
    "long_regressor.fit(sent_train, long_train)"
   ]
  },
  {
   "cell_type": "code",
   "execution_count": 53,
   "metadata": {},
   "outputs": [],
   "source": [
    "long_pred = long_regressor.predict(sent_test)"
   ]
  },
  {
   "cell_type": "code",
   "execution_count": 54,
   "metadata": {},
   "outputs": [],
   "source": [
    "pd.set_option('display.max_colwidth', 50)"
   ]
  },
  {
   "cell_type": "code",
   "execution_count": 55,
   "metadata": {},
   "outputs": [
    {
     "data": {
      "text/plain": [
       "<matplotlib.legend.Legend at 0x1a6e1f1d760>"
      ]
     },
     "execution_count": 55,
     "metadata": {},
     "output_type": "execute_result"
    },
    {
     "data": {
      "image/png": "[encoded data removed]",
      "text/plain": [
       "<Figure size 600x400 with 1 Axes>"
      ]
     },
     "metadata": {},
     "output_type": "display_data"
    }
   ],
   "source": [
    "fig = plt.figure(figsize=(6,4))\n",
    "fig.set_facecolor('white')\n",
    "ax = fig.add_subplot()\n",
    "\n",
    "ax.scatter(sent_test, long_test, color = 'green', marker = 'o', label = \"test\")\n",
    "ax.scatter(sent_test, long_pred, color = 'orange', marker = 'o', label = \"predict\")\n",
    "ax.set_xlim(0, 250)\n",
    "ax.set_xlabel(\"Mean Sentence Length\")\n",
    "ax.set_ylabel(\"Longwinded\")\n",
    "ax.legend()"
   ]
  },
  {
   "cell_type": "code",
   "execution_count": 56,
   "metadata": {},
   "outputs": [
    {
     "data": {
      "text/plain": [
       "array([0.00139043])"
      ]
     },
     "execution_count": 56,
     "metadata": {},
     "output_type": "execute_result"
    }
   ],
   "source": [
    "# calculate the coefficient; the strength of the correlation\n",
    "long_regressor.coef_"
   ]
  },
  {
   "cell_type": "code",
   "execution_count": 57,
   "metadata": {},
   "outputs": [
    {
     "data": {
      "text/plain": [
       "1.71405809341979"
      ]
     },
     "execution_count": 57,
     "metadata": {},
     "output_type": "execute_result"
    }
   ],
   "source": [
    "mean_absolute_error(long_test, long_pred)"
   ]
  },
  {
   "cell_type": "markdown",
   "metadata": {},
   "source": [
    "* Very very low.. so, there is no correlation between the sentence length of the talk and the possibility of getting rated as `longwinded`"
   ]
  }
 ],
 "metadata": {
  "kernelspec": {
   "display_name": "Python 3 (ipykernel)",
   "language": "python",
   "name": "python3"
  },
  "language_info": {
   "codemirror_mode": {
    "name": "ipython",
    "version": 3
   },
   "file_extension": ".py",
   "mimetype": "text/x-python",
   "name": "python",
   "nbconvert_exporter": "python",
   "pygments_lexer": "ipython3",
   "version": "3.9.13"
  }
 },
 "nbformat": 4,
 "nbformat_minor": 2
}
