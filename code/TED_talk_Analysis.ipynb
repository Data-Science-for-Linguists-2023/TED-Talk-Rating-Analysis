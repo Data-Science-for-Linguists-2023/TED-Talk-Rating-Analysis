{
 "cells": [
  {
   "cell_type": "markdown",
   "metadata": {},
   "source": [
    "## 1. Textual feature -- Label Classification"
   ]
  },
  {
   "cell_type": "markdown",
   "metadata": {},
   "source": [
    "### Multinomial NB"
   ]
  },
  {
   "cell_type": "markdown",
   "metadata": {},
   "source": [
    "* Why multinomial NB?  \n",
    "    - cause it's fast and efficient"
   ]
  },
  {
   "cell_type": "code",
   "execution_count": null,
   "metadata": {},
   "outputs": [],
   "source": [
    "# load packages needed\n",
    "from sklearn.model_selection import train_test_split\n",
    "from sklearn.feature_extraction.text import TfidfVectorizer\n",
    "from sklearn.naive_bayes import MultinomialNB\n",
    "from sklearn.pipeline import make_pipeline\n",
    "from sklearn.svm import SVC\n",
    "from sklearn.metrics import accuracy_score"
   ]
  },
  {
   "cell_type": "code",
   "execution_count": null,
   "metadata": {},
   "outputs": [],
   "source": [
    "# split the data into train set and test set\n",
    "trans_train, trans_test, label_train, label_test = train_test_split(ted_clean.transcript, ted_clean.label, \n",
    "                                                                    test_size=0.2, random_state=0)"
   ]
  },
  {
   "cell_type": "code",
   "execution_count": null,
   "metadata": {},
   "outputs": [
    {
     "data": {
      "text/plain": [
       "0.6979166666666666"
      ]
     },
     "metadata": {},
     "output_type": "display_data"
    }
   ],
   "source": [
    "NBmodel = make_pipeline(TfidfVectorizer(max_features=1500, stop_words='english'),\n",
    "                        MultinomialNB())\n",
    "NBmodel.fit(trans_train, label_train)\n",
    "\n",
    "\n",
    "accuracy_score(label_test, NBmodel.predict(trans_test))"
   ]
  },
  {
   "cell_type": "code",
   "execution_count": null,
   "metadata": {},
   "outputs": [
    {
     "data": {
      "text/plain": [
       "0.703125"
      ]
     },
     "metadata": {},
     "output_type": "display_data"
    }
   ],
   "source": [
    "# change the max_feature to 3000\n",
    "NBmodel = make_pipeline(TfidfVectorizer(max_features=3000, stop_words='english'),\n",
    "                        MultinomialNB())\n",
    "NBmodel.fit(trans_train, label_train)\n",
    "\n",
    "\n",
    "accuracy_score(label_test, NBmodel.predict(trans_test))"
   ]
  },
  {
   "cell_type": "code",
   "execution_count": null,
   "metadata": {},
   "outputs": [],
   "source": [
    "# make a heatmap\n",
    "label_pred = accuracy_score(label_test, NBmodel.predict(trans_test))\n",
    "\n",
    "from sklearn.metrics import confusion_matrix\n",
    "\n",
    "mat = confusion_matrix(label_test, label_pred)\n",
    "sns.heatmap(mat, square=True, annot=True, fmt='d', cmap=\"Reds\")\n",
    "# fmt: either 's' or 'd'; s = string, d = decimal\n",
    "# square: the shape of each cell\n",
    "plt.xlabel('predicted label')\n",
    "plt.ylabel('true label')\n",
    "plt.show()"
   ]
  },
  {
   "cell_type": "markdown",
   "metadata": {},
   "source": [
    "* Very slight increase.. \n",
    "* then how about 5000 features?"
   ]
  },
  {
   "cell_type": "code",
   "execution_count": null,
   "metadata": {},
   "outputs": [
    {
     "data": {
      "text/plain": [
       "0.6927083333333334"
      ]
     },
     "metadata": {},
     "output_type": "display_data"
    }
   ],
   "source": [
    "# change max_feature to 5000 to see if there is any difference\n",
    "NBmodel = make_pipeline(TfidfVectorizer(max_features=5000, stop_words='english'),\n",
    "                        MultinomialNB())\n",
    "NBmodel.fit(trans_train, label_train)\n",
    "\n",
    "\n",
    "accuracy_score(label_test, NBmodel.predict(trans_test))"
   ]
  },
  {
   "cell_type": "markdown",
   "metadata": {},
   "source": [
    "* ohh it decreased even more than that of 1500 features?!"
   ]
  },
  {
   "cell_type": "markdown",
   "metadata": {},
   "source": [
    "* So basically, NB model says it is not possible to predict the rate of positive review of the talks based off of its transcript."
   ]
  },
  {
   "cell_type": "markdown",
   "metadata": {},
   "source": [
    "### SVM"
   ]
  },
  {
   "cell_type": "markdown",
   "metadata": {},
   "source": [
    "* Why SVM?  \n",
    "    - Cause I am trying to predict the categorical variable, and SVM is pretty much for the exact purpose. (Also wanted to adopt a model little more complicated than NB model.)"
   ]
  },
  {
   "cell_type": "code",
   "execution_count": null,
   "metadata": {},
   "outputs": [],
   "source": [
    "# calcualte tf-idf before applying the raw data into svm\n",
    "vectorz = TfidfVectorizer(max_df=0.5, min_df=2, max_features=1500, stop_words='english')\n",
    "\n",
    "tf_train = vectorz.fit_transform(trans_train)\n",
    "tf_test = vectorz.transform(trans_test)"
   ]
  },
  {
   "cell_type": "code",
   "execution_count": null,
   "metadata": {},
   "outputs": [
    {
     "data": {
      "text/plain": [
       "SVC(C=100000.0, kernel='linear')"
      ]
     },
     "metadata": {},
     "output_type": "display_data"
    }
   ],
   "source": [
    "svcmdl = SVC(kernel='linear', C=1E5)\n",
    "svcmdl.fit(tf_train, label_train)"
   ]
  },
  {
   "cell_type": "code",
   "execution_count": null,
   "metadata": {},
   "outputs": [
    {
     "data": {
      "text/plain": [
       "0.6302083333333334"
      ]
     },
     "metadata": {},
     "output_type": "display_data"
    }
   ],
   "source": [
    "accuracy_score(label_test, svcmdl.predict(tf_test))"
   ]
  },
  {
   "cell_type": "markdown",
   "metadata": {},
   "source": [
    "* It is even lower than the base line accuracy.\n",
    "* We can conclude that it is not possible to predict the popularity of the talks based on their transcript.\n",
    "* No difference in the content between the popular ones and less popular ones.\n",
    "* This is quite expected considering that the whole ratings themselves are strongly skewed to positive ratings (mean pos rate: 91%.)"
   ]
  },
  {
   "cell_type": "markdown",
   "metadata": {},
   "source": [
    "## 2. K-band & `obnoxious`"
   ]
  },
  {
   "cell_type": "markdown",
   "metadata": {},
   "source": [
    "### Feature Enginieering Part"
   ]
  },
  {
   "cell_type": "markdown",
   "metadata": {},
   "source": [
    "* Sub-hypothesis to check: the higher the k-band is, the higher the percentage of the rating `obnoxious`"
   ]
  },
  {
   "cell_type": "code",
   "execution_count": null,
   "metadata": {},
   "outputs": [],
   "source": [
    "# make a toy data set \n",
    "toy_df = ted_clean.head(10)"
   ]
  },
  {
   "cell_type": "code",
   "execution_count": null,
   "metadata": {},
   "outputs": [],
   "source": [
    "# calculate the percentage of the rating 'obnoxious' on toy_df\n",
    "total = 0\n",
    "obn_score = 0\n",
    "obs_perc = []\n",
    "\n",
    "for i in toy_df.ratings_tuple:\n",
    "    total = 0\n",
    "    obn_score = 0\n",
    "    for (x, y) in i:\n",
    "        if x == 'Obnoxious':\n",
    "            obn_score += int(y)\n",
    "            total += int(y)\n",
    "        else:\n",
    "            total += int(y)\n",
    "    obs_perc.append(obn_score/total)"
   ]
  },
  {
   "cell_type": "code",
   "execution_count": null,
   "metadata": {},
   "outputs": [
    {
     "data": {
      "text/plain": [
       "[0.0022269579115610015,\n",
       " 0.04461852861035422,\n",
       " 0.05028328611898017,\n",
       " 0.009388412017167383,\n",
       " 0.002380952380952381,\n",
       " 0.021815576973170096,\n",
       " 0.048349449816605536,\n",
       " 0.0048828125,\n",
       " 0.021033958438925495,\n",
       " 0.044553860934310074]"
      ]
     },
     "metadata": {},
     "output_type": "display_data"
    }
   ],
   "source": [
    "# check if it works\n",
    "obs_perc"
   ]
  },
  {
   "cell_type": "code",
   "execution_count": null,
   "metadata": {},
   "outputs": [],
   "source": [
    "# apply the function to the original data set\n",
    "total = 0\n",
    "obn_score = 0\n",
    "obs_perc = []\n",
    "\n",
    "\n",
    "for i in ted_clean.ratings_tuple:\n",
    "    total = 0\n",
    "    obn_score = 0\n",
    "    for (x, y) in i:\n",
    "        if x == 'Obnoxious':\n",
    "            obn_score += int(y)\n",
    "            total += int(y)\n",
    "        else:\n",
    "            total += int(y)\n",
    "    obs_perc.append((obn_score/total)*100)"
   ]
  },
  {
   "cell_type": "code",
   "execution_count": null,
   "metadata": {},
   "outputs": [],
   "source": [
    "# make another column of the percentage of rating `obnoxious`\n",
    "ted_clean['obs_perc'] = obs_perc"
   ]
  },
  {
   "cell_type": "code",
   "execution_count": null,
   "metadata": {},
   "outputs": [
    {
     "data": {
      "text/plain": [
       "count    957.000000\n",
       "mean       1.523199\n",
       "std        2.328065\n",
       "min        0.000000\n",
       "25%        0.367366\n",
       "50%        0.844206\n",
       "75%        1.746324\n",
       "max       36.014819\n",
       "Name: obs_perc, dtype: float64"
      ]
     },
     "metadata": {},
     "output_type": "display_data"
    }
   ],
   "source": [
    "# look at the data form\n",
    "ted_clean.obs_perc.describe()"
   ]
  },
  {
   "cell_type": "markdown",
   "metadata": {},
   "source": [
    "### Regression"
   ]
  },
  {
   "cell_type": "code",
   "execution_count": null,
   "metadata": {},
   "outputs": [],
   "source": [
    "# split the data set into train and test set\n",
    "kband_train, kband_test, obs_train, obs_test = train_test_split(ted_clean[['kband_ave']], ted_clean.obs_perc,\n",
    "                                                                test_size = 1/5, random_state=0)"
   ]
  },
  {
   "cell_type": "code",
   "execution_count": null,
   "metadata": {},
   "outputs": [
    {
     "data": {
      "text/plain": [
       "LinearRegression()"
      ]
     },
     "metadata": {},
     "output_type": "display_data"
    }
   ],
   "source": [
    "# import linear regression and run the model\n",
    "from sklearn.linear_model import LinearRegression\n",
    "\n",
    "regressor = LinearRegression()\n",
    "regressor.fit(kband_train, obs_train)"
   ]
  },
  {
   "cell_type": "code",
   "execution_count": null,
   "metadata": {},
   "outputs": [
    {
     "data": {
      "text/plain": [
       "array([0.1122869])"
      ]
     },
     "metadata": {},
     "output_type": "display_data"
    }
   ],
   "source": [
    "# calculate the coefficient; the strength of the correlation\n",
    "regressor.coef_"
   ]
  },
  {
   "cell_type": "markdown",
   "metadata": {},
   "source": [
    "* Low correlation between k-band and the rating `obnoxious`"
   ]
  },
  {
   "cell_type": "code",
   "execution_count": null,
   "metadata": {},
   "outputs": [
    {
     "data": {
      "text/plain": [
       "1.241665956367778"
      ]
     },
     "metadata": {},
     "output_type": "display_data"
    }
   ],
   "source": [
    "from sklearn.metrics import mean_absolute_error\n",
    "mean_absolute_error(obs_test, regressor.predict(kband_test))"
   ]
  },
  {
   "cell_type": "markdown",
   "metadata": {},
   "source": [
    "* On average, this regression model is off by 1.24 point."
   ]
  },
  {
   "cell_type": "markdown",
   "metadata": {},
   "source": [
    "## 3. Sentence length and `longwinded`"
   ]
  },
  {
   "cell_type": "markdown",
   "metadata": {},
   "source": [
    "* ANOTHER sub-hypothesis: what about the sentence length and the rating `longwinded`?"
   ]
  },
  {
   "cell_type": "markdown",
   "metadata": {},
   "source": [
    "### Feature Enginieering Part"
   ]
  },
  {
   "cell_type": "code",
   "execution_count": null,
   "metadata": {},
   "outputs": [],
   "source": [
    "# make another column for the ratio of `long-winded`\n",
    "long_perc = []\n",
    "\n",
    "for i in ted_clean.ratings_tuple:\n",
    "    total = 0\n",
    "    long_score = 0\n",
    "    for (x, y) in i:\n",
    "        if x == 'Longwinded':\n",
    "            long_score += int(y)\n",
    "            total += int(y)\n",
    "        else:\n",
    "            total += int(y)\n",
    "    long_perc.append((long_score/total)*100)"
   ]
  },
  {
   "cell_type": "code",
   "execution_count": null,
   "metadata": {},
   "outputs": [],
   "source": [
    "# insert the list into the data frame and check\n",
    "ted_clean['long_perc'] = long_perc\n",
    "ted_clean.head(4)"
   ]
  },
  {
   "cell_type": "code",
   "execution_count": null,
   "metadata": {},
   "outputs": [],
   "source": [
    "# calculate the sentence length of each talk\n",
    "ted_clean['sent_len'] = ted_clean.transcript.map(lambda x: len(nltk.sent_tokenize(x)))"
   ]
  },
  {
   "cell_type": "markdown",
   "metadata": {},
   "source": [
    "### Regression"
   ]
  },
  {
   "cell_type": "code",
   "execution_count": null,
   "metadata": {},
   "outputs": [],
   "source": [
    "# split the data set into train and test data\n",
    "sent_train, sent_test, long_train, long_test = train_test_split(ted_clean[['sent_len']], ted_clean.long_perc,\n",
    "                                                                test_size=0.2, random_state=2)"
   ]
  },
  {
   "cell_type": "code",
   "execution_count": null,
   "metadata": {},
   "outputs": [
    {
     "data": {
      "text/plain": [
       "LinearRegression()"
      ]
     },
     "metadata": {},
     "output_type": "display_data"
    }
   ],
   "source": [
    "# run the linear regression\n",
    "regressor = LinearRegression()\n",
    "regressor.fit(sent_train, long_train)"
   ]
  },
  {
   "cell_type": "code",
   "execution_count": null,
   "metadata": {},
   "outputs": [
    {
     "data": {
      "text/plain": [
       "array([0.00919571])"
      ]
     },
     "metadata": {},
     "output_type": "display_data"
    }
   ],
   "source": [
    "# calculate the coefficient; the strength of the correlation\n",
    "regressor.coef_"
   ]
  },
  {
   "cell_type": "markdown",
   "metadata": {},
   "source": [
    "* Very very low.. so, there is no correlation between the sentence length of the talk and the possibility of getting rated as `longwinded`"
   ]
  }
 ],
 "metadata": {
  "language_info": {
   "name": "python"
  },
  "orig_nbformat": 4
 },
 "nbformat": 4,
 "nbformat_minor": 2
}
